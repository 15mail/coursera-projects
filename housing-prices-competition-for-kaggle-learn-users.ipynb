{
 "cells": [
  {
   "cell_type": "code",
   "execution_count": 1,
   "id": "d3445bfd",
   "metadata": {
    "_cell_guid": "b1076dfc-b9ad-4769-8c92-a6c4dae69d19",
    "_uuid": "8f2839f25d086af736a60e9eeb907d3b93b6e0e5",
    "execution": {
     "iopub.execute_input": "2025-02-10T14:26:05.513858Z",
     "iopub.status.busy": "2025-02-10T14:26:05.513532Z",
     "iopub.status.idle": "2025-02-10T14:26:06.254178Z",
     "shell.execute_reply": "2025-02-10T14:26:06.253238Z"
    },
    "papermill": {
     "duration": 0.747791,
     "end_time": "2025-02-10T14:26:06.255587",
     "exception": false,
     "start_time": "2025-02-10T14:26:05.507796",
     "status": "completed"
    },
    "tags": []
   },
   "outputs": [
    {
     "name": "stdout",
     "output_type": "stream",
     "text": [
      "/kaggle/input/home-data-for-ml-course/sample_submission.csv\n",
      "/kaggle/input/home-data-for-ml-course/sample_submission.csv.gz\n",
      "/kaggle/input/home-data-for-ml-course/train.csv.gz\n",
      "/kaggle/input/home-data-for-ml-course/data_description.txt\n",
      "/kaggle/input/home-data-for-ml-course/test.csv.gz\n",
      "/kaggle/input/home-data-for-ml-course/train.csv\n",
      "/kaggle/input/home-data-for-ml-course/test.csv\n"
     ]
    }
   ],
   "source": [
    "# This Python 3 environment comes with many helpful analytics libraries installed\n",
    "# It is defined by the kaggle/python Docker image: https://github.com/kaggle/docker-python\n",
    "# For example, here's several helpful packages to load\n",
    "\n",
    "import numpy as np # linear algebra\n",
    "import pandas as pd # data processing, CSV file I/O (e.g. pd.read_csv)\n",
    "\n",
    "# Input data files are available in the read-only \"../input/\" directory\n",
    "# For example, running this (by clicking run or pressing Shift+Enter) will list all files under the input directory\n",
    "\n",
    "import os\n",
    "for dirname, _, filenames in os.walk('/kaggle/input'):\n",
    "    for filename in filenames:\n",
    "        print(os.path.join(dirname, filename))\n",
    "\n",
    "# You can write up to 20GB to the current directory (/kaggle/working/) that gets preserved as output when you create a version using \"Save & Run All\" \n",
    "# You can also write temporary files to /kaggle/temp/, but they won't be saved outside of the current session"
   ]
  },
  {
   "cell_type": "code",
   "execution_count": 2,
   "id": "9262c452",
   "metadata": {
    "execution": {
     "iopub.execute_input": "2025-02-10T14:26:06.265115Z",
     "iopub.status.busy": "2025-02-10T14:26:06.264687Z",
     "iopub.status.idle": "2025-02-10T14:26:07.828550Z",
     "shell.execute_reply": "2025-02-10T14:26:07.827556Z"
    },
    "papermill": {
     "duration": 1.570254,
     "end_time": "2025-02-10T14:26:07.830266",
     "exception": false,
     "start_time": "2025-02-10T14:26:06.260012",
     "status": "completed"
    },
    "tags": []
   },
   "outputs": [],
   "source": [
    "import pandas as pd, numpy as np\n",
    "import matplotlib.pyplot as plt\n",
    "import seaborn as sns\n",
    "\n",
    "from sklearn.metrics import mean_squared_error\n",
    "from sklearn.model_selection import KFold"
   ]
  },
  {
   "cell_type": "code",
   "execution_count": 3,
   "id": "a2bf348c",
   "metadata": {
    "execution": {
     "iopub.execute_input": "2025-02-10T14:26:07.839961Z",
     "iopub.status.busy": "2025-02-10T14:26:07.839563Z",
     "iopub.status.idle": "2025-02-10T14:26:07.842923Z",
     "shell.execute_reply": "2025-02-10T14:26:07.842285Z"
    },
    "papermill": {
     "duration": 0.009496,
     "end_time": "2025-02-10T14:26:07.844110",
     "exception": false,
     "start_time": "2025-02-10T14:26:07.834614",
     "status": "completed"
    },
    "tags": []
   },
   "outputs": [],
   "source": [
    "import warnings\n",
    "warnings.simplefilter('ignore')"
   ]
  },
  {
   "cell_type": "code",
   "execution_count": 4,
   "id": "d190d32e",
   "metadata": {
    "execution": {
     "iopub.execute_input": "2025-02-10T14:26:07.853465Z",
     "iopub.status.busy": "2025-02-10T14:26:07.853197Z",
     "iopub.status.idle": "2025-02-10T14:26:07.945647Z",
     "shell.execute_reply": "2025-02-10T14:26:07.944825Z"
    },
    "papermill": {
     "duration": 0.098775,
     "end_time": "2025-02-10T14:26:07.947085",
     "exception": false,
     "start_time": "2025-02-10T14:26:07.848310",
     "status": "completed"
    },
    "tags": []
   },
   "outputs": [
    {
     "data": {
      "text/html": [
       "<div>\n",
       "<style scoped>\n",
       "    .dataframe tbody tr th:only-of-type {\n",
       "        vertical-align: middle;\n",
       "    }\n",
       "\n",
       "    .dataframe tbody tr th {\n",
       "        vertical-align: top;\n",
       "    }\n",
       "\n",
       "    .dataframe thead th {\n",
       "        text-align: right;\n",
       "    }\n",
       "</style>\n",
       "<table border=\"1\" class=\"dataframe\">\n",
       "  <thead>\n",
       "    <tr style=\"text-align: right;\">\n",
       "      <th></th>\n",
       "      <th>MSSubClass</th>\n",
       "      <th>MSZoning</th>\n",
       "      <th>LotFrontage</th>\n",
       "      <th>LotArea</th>\n",
       "      <th>Street</th>\n",
       "      <th>Alley</th>\n",
       "      <th>LotShape</th>\n",
       "      <th>LandContour</th>\n",
       "      <th>Utilities</th>\n",
       "      <th>LotConfig</th>\n",
       "      <th>...</th>\n",
       "      <th>PoolArea</th>\n",
       "      <th>PoolQC</th>\n",
       "      <th>Fence</th>\n",
       "      <th>MiscFeature</th>\n",
       "      <th>MiscVal</th>\n",
       "      <th>MoSold</th>\n",
       "      <th>YrSold</th>\n",
       "      <th>SaleType</th>\n",
       "      <th>SaleCondition</th>\n",
       "      <th>SalePrice</th>\n",
       "    </tr>\n",
       "    <tr>\n",
       "      <th>Id</th>\n",
       "      <th></th>\n",
       "      <th></th>\n",
       "      <th></th>\n",
       "      <th></th>\n",
       "      <th></th>\n",
       "      <th></th>\n",
       "      <th></th>\n",
       "      <th></th>\n",
       "      <th></th>\n",
       "      <th></th>\n",
       "      <th></th>\n",
       "      <th></th>\n",
       "      <th></th>\n",
       "      <th></th>\n",
       "      <th></th>\n",
       "      <th></th>\n",
       "      <th></th>\n",
       "      <th></th>\n",
       "      <th></th>\n",
       "      <th></th>\n",
       "      <th></th>\n",
       "    </tr>\n",
       "  </thead>\n",
       "  <tbody>\n",
       "    <tr>\n",
       "      <th>1</th>\n",
       "      <td>60</td>\n",
       "      <td>RL</td>\n",
       "      <td>65.0</td>\n",
       "      <td>8450</td>\n",
       "      <td>Pave</td>\n",
       "      <td>NaN</td>\n",
       "      <td>Reg</td>\n",
       "      <td>Lvl</td>\n",
       "      <td>AllPub</td>\n",
       "      <td>Inside</td>\n",
       "      <td>...</td>\n",
       "      <td>0</td>\n",
       "      <td>NaN</td>\n",
       "      <td>NaN</td>\n",
       "      <td>NaN</td>\n",
       "      <td>0</td>\n",
       "      <td>2</td>\n",
       "      <td>2008</td>\n",
       "      <td>WD</td>\n",
       "      <td>Normal</td>\n",
       "      <td>208500</td>\n",
       "    </tr>\n",
       "    <tr>\n",
       "      <th>2</th>\n",
       "      <td>20</td>\n",
       "      <td>RL</td>\n",
       "      <td>80.0</td>\n",
       "      <td>9600</td>\n",
       "      <td>Pave</td>\n",
       "      <td>NaN</td>\n",
       "      <td>Reg</td>\n",
       "      <td>Lvl</td>\n",
       "      <td>AllPub</td>\n",
       "      <td>FR2</td>\n",
       "      <td>...</td>\n",
       "      <td>0</td>\n",
       "      <td>NaN</td>\n",
       "      <td>NaN</td>\n",
       "      <td>NaN</td>\n",
       "      <td>0</td>\n",
       "      <td>5</td>\n",
       "      <td>2007</td>\n",
       "      <td>WD</td>\n",
       "      <td>Normal</td>\n",
       "      <td>181500</td>\n",
       "    </tr>\n",
       "    <tr>\n",
       "      <th>3</th>\n",
       "      <td>60</td>\n",
       "      <td>RL</td>\n",
       "      <td>68.0</td>\n",
       "      <td>11250</td>\n",
       "      <td>Pave</td>\n",
       "      <td>NaN</td>\n",
       "      <td>IR1</td>\n",
       "      <td>Lvl</td>\n",
       "      <td>AllPub</td>\n",
       "      <td>Inside</td>\n",
       "      <td>...</td>\n",
       "      <td>0</td>\n",
       "      <td>NaN</td>\n",
       "      <td>NaN</td>\n",
       "      <td>NaN</td>\n",
       "      <td>0</td>\n",
       "      <td>9</td>\n",
       "      <td>2008</td>\n",
       "      <td>WD</td>\n",
       "      <td>Normal</td>\n",
       "      <td>223500</td>\n",
       "    </tr>\n",
       "  </tbody>\n",
       "</table>\n",
       "<p>3 rows × 80 columns</p>\n",
       "</div>"
      ],
      "text/plain": [
       "    MSSubClass MSZoning  LotFrontage  LotArea Street Alley LotShape  \\\n",
       "Id                                                                    \n",
       "1           60       RL         65.0     8450   Pave   NaN      Reg   \n",
       "2           20       RL         80.0     9600   Pave   NaN      Reg   \n",
       "3           60       RL         68.0    11250   Pave   NaN      IR1   \n",
       "\n",
       "   LandContour Utilities LotConfig  ... PoolArea PoolQC Fence MiscFeature  \\\n",
       "Id                                  ...                                     \n",
       "1          Lvl    AllPub    Inside  ...        0    NaN   NaN         NaN   \n",
       "2          Lvl    AllPub       FR2  ...        0    NaN   NaN         NaN   \n",
       "3          Lvl    AllPub    Inside  ...        0    NaN   NaN         NaN   \n",
       "\n",
       "   MiscVal MoSold  YrSold  SaleType  SaleCondition  SalePrice  \n",
       "Id                                                             \n",
       "1        0      2    2008        WD         Normal     208500  \n",
       "2        0      5    2007        WD         Normal     181500  \n",
       "3        0      9    2008        WD         Normal     223500  \n",
       "\n",
       "[3 rows x 80 columns]"
      ]
     },
     "execution_count": 4,
     "metadata": {},
     "output_type": "execute_result"
    }
   ],
   "source": [
    "train = pd.read_csv('/kaggle/input/home-data-for-ml-course/train.csv', index_col='Id')\n",
    "test = pd.read_csv('/kaggle/input/home-data-for-ml-course/test.csv', index_col='Id')\n",
    "\n",
    "train.head(3)"
   ]
  },
  {
   "cell_type": "code",
   "execution_count": 5,
   "id": "e24e0277",
   "metadata": {
    "execution": {
     "iopub.execute_input": "2025-02-10T14:26:07.957792Z",
     "iopub.status.busy": "2025-02-10T14:26:07.957465Z",
     "iopub.status.idle": "2025-02-10T14:26:07.964855Z",
     "shell.execute_reply": "2025-02-10T14:26:07.964184Z"
    },
    "papermill": {
     "duration": 0.013976,
     "end_time": "2025-02-10T14:26:07.966049",
     "exception": false,
     "start_time": "2025-02-10T14:26:07.952073",
     "status": "completed"
    },
    "tags": []
   },
   "outputs": [
    {
     "name": "stdout",
     "output_type": "stream",
     "text": [
      "TARGET: SalePrice\n",
      "\n",
      "CATEGORICAL FEATURES: ['MSZoning', 'Street', 'Alley', 'LotShape', 'LandContour', 'Utilities', 'LotConfig', 'LandSlope', 'Neighborhood', 'Condition1', 'Condition2', 'BldgType', 'HouseStyle', 'RoofStyle', 'RoofMatl', 'Exterior1st', 'Exterior2nd', 'MasVnrType', 'ExterQual', 'ExterCond', 'Foundation', 'BsmtQual', 'BsmtCond', 'BsmtExposure', 'BsmtFinType1', 'BsmtFinType2', 'Heating', 'HeatingQC', 'CentralAir', 'Electrical', 'KitchenQual', 'Functional', 'FireplaceQu', 'GarageType', 'GarageFinish', 'GarageQual', 'GarageCond', 'PavedDrive', 'PoolQC', 'Fence', 'MiscFeature', 'SaleType', 'SaleCondition']\n",
      "\n",
      "NUMERICAL FEATURES: ['MSSubClass', 'LotFrontage', 'LotArea', 'OverallQual', 'OverallCond', 'YearBuilt', 'YearRemodAdd', 'MasVnrArea', 'BsmtFinSF1', 'BsmtFinSF2', 'BsmtUnfSF', 'TotalBsmtSF', '1stFlrSF', '2ndFlrSF', 'LowQualFinSF', 'GrLivArea', 'BsmtFullBath', 'BsmtHalfBath', 'FullBath', 'HalfBath', 'BedroomAbvGr', 'KitchenAbvGr', 'TotRmsAbvGrd', 'Fireplaces', 'GarageYrBlt', 'GarageCars', 'GarageArea', 'WoodDeckSF', 'OpenPorchSF', 'EnclosedPorch', '3SsnPorch', 'ScreenPorch', 'PoolArea', 'MiscVal', 'MoSold', 'YrSold']\n"
     ]
    }
   ],
   "source": [
    "TARGET = \"SalePrice\"\n",
    "\n",
    "CATS = train.select_dtypes(include=['object', 'category']).columns.tolist()\n",
    "NUMS = train.select_dtypes(include=['number']).drop(columns=[TARGET], errors='ignore').columns.tolist()\n",
    "FEATURES = CATS + NUMS\n",
    "\n",
    "print(\"TARGET:\", TARGET)\n",
    "print(\"\\nCATEGORICAL FEATURES:\", CATS)\n",
    "print(\"\\nNUMERICAL FEATURES:\", NUMS)"
   ]
  },
  {
   "cell_type": "code",
   "execution_count": 6,
   "id": "9d154758",
   "metadata": {
    "execution": {
     "iopub.execute_input": "2025-02-10T14:26:07.975447Z",
     "iopub.status.busy": "2025-02-10T14:26:07.975213Z",
     "iopub.status.idle": "2025-02-10T14:26:08.192620Z",
     "shell.execute_reply": "2025-02-10T14:26:08.191749Z"
    },
    "papermill": {
     "duration": 0.223481,
     "end_time": "2025-02-10T14:26:08.193931",
     "exception": false,
     "start_time": "2025-02-10T14:26:07.970450",
     "status": "completed"
    },
    "tags": []
   },
   "outputs": [
    {
     "name": "stdout",
     "output_type": "stream",
     "text": [
      "XGBoost Version: 2.0.3\n"
     ]
    }
   ],
   "source": [
    "import xgboost as xgb\n",
    "from xgboost import XGBRegressor\n",
    "\n",
    "print(\"XGBoost Version:\", xgb.__version__)"
   ]
  },
  {
   "cell_type": "code",
   "execution_count": 7,
   "id": "49078feb",
   "metadata": {
    "execution": {
     "iopub.execute_input": "2025-02-10T14:26:08.203756Z",
     "iopub.status.busy": "2025-02-10T14:26:08.203527Z",
     "iopub.status.idle": "2025-02-10T14:26:08.268731Z",
     "shell.execute_reply": "2025-02-10T14:26:08.268034Z"
    },
    "papermill": {
     "duration": 0.071649,
     "end_time": "2025-02-10T14:26:08.270280",
     "exception": false,
     "start_time": "2025-02-10T14:26:08.198631",
     "status": "completed"
    },
    "tags": []
   },
   "outputs": [],
   "source": [
    "train_df = train.copy()\n",
    "test_df = test.copy()\n",
    "\n",
    "train_df[CATS] = train_df[CATS].fillna(\"Missing\").astype(\"category\")\n",
    "test_df[CATS] = test_df[CATS].fillna(\"Missing\").astype(\"category\")"
   ]
  },
  {
   "cell_type": "code",
   "execution_count": 8,
   "id": "2f9cf91f",
   "metadata": {
    "execution": {
     "iopub.execute_input": "2025-02-10T14:26:08.280974Z",
     "iopub.status.busy": "2025-02-10T14:26:08.280707Z",
     "iopub.status.idle": "2025-02-10T14:26:18.194319Z",
     "shell.execute_reply": "2025-02-10T14:26:18.193488Z"
    },
    "papermill": {
     "duration": 9.920669,
     "end_time": "2025-02-10T14:26:18.195595",
     "exception": false,
     "start_time": "2025-02-10T14:26:08.274926",
     "status": "completed"
    },
    "tags": []
   },
   "outputs": [
    {
     "name": "stdout",
     "output_type": "stream",
     "text": [
      "### Fold 1 ###\n",
      "[0]\tvalidation_0-rmse:86221.78112\n",
      "[500]\tvalidation_0-rmse:23865.15448\n",
      "[642]\tvalidation_0-rmse:23818.48103\n",
      "### Fold 2 ###\n",
      "[0]\tvalidation_0-rmse:81257.01715\n",
      "[500]\tvalidation_0-rmse:24701.69727\n",
      "[526]\tvalidation_0-rmse:24703.43341\n",
      "### Fold 3 ###\n",
      "[0]\tvalidation_0-rmse:73090.83154\n",
      "[149]\tvalidation_0-rmse:36628.86409\n",
      "### Fold 4 ###\n",
      "[0]\tvalidation_0-rmse:78180.76889\n",
      "[500]\tvalidation_0-rmse:28579.79698\n",
      "[508]\tvalidation_0-rmse:28585.27859\n",
      "### Fold 5 ###\n",
      "[0]\tvalidation_0-rmse:71228.81585\n",
      "[500]\tvalidation_0-rmse:25363.13389\n",
      "[645]\tvalidation_0-rmse:25349.49509\n",
      "Validation RMSE: 27900.564957084283\n",
      "CPU times: user 38 s, sys: 249 ms, total: 38.2 s\n",
      "Wall time: 9.91 s\n"
     ]
    }
   ],
   "source": [
    "%%time\n",
    "\n",
    "FOLDS = 5\n",
    "kf = KFold(n_splits=FOLDS, shuffle=True, random_state=42)\n",
    "\n",
    "oof_preds_xgb = np.zeros(len(train_df))\n",
    "test_preds_xgb = np.zeros(len(test_df))\n",
    "\n",
    "xgb_params = {\n",
    "    \"n_estimators\": 2000,\n",
    "    \"learning_rate\": 0.02,\n",
    "    \"max_depth\": 6,\n",
    "    \"objective\": \"reg:squarederror\",\n",
    "    \"eval_metric\": \"rmse\",\n",
    "    \"random_state\": 42,\n",
    "    # \"tree_method\": \"gdp_hist\", # if using GPU\n",
    "    \"enable_categorical\": True\n",
    "}\n",
    "\n",
    "for fold, (train_idx, valid_idx) in enumerate(kf.split(train_df)):\n",
    "    print(f\"### Fold {fold+1} ###\")\n",
    "\n",
    "    X_train, y_train = train_df.iloc[train_idx][FEATURES], train_df.iloc[train_idx][TARGET]\n",
    "    X_valid, y_valid = train_df.iloc[valid_idx][FEATURES], train_df.iloc[valid_idx][TARGET]\n",
    "    X_test = test_df[FEATURES]\n",
    "\n",
    "    model = XGBRegressor(**xgb_params)\n",
    "\n",
    "    model.fit(\n",
    "        X_train, y_train,\n",
    "        eval_set=[(X_valid, y_valid)],\n",
    "        early_stopping_rounds=50,\n",
    "        verbose=500\n",
    "    )\n",
    "\n",
    "    oof_preds_xgb[valid_idx] = model.predict(X_valid)\n",
    "    test_preds_xgb += model.predict(X_test) / FOLDS\n",
    "\n",
    "rmse = np.sqrt(mean_squared_error(train_df[TARGET], oof_preds_xgb))\n",
    "print(f\"Validation RMSE: {rmse}\")\n"
   ]
  },
  {
   "cell_type": "code",
   "execution_count": 9,
   "id": "b8cffa6a",
   "metadata": {
    "execution": {
     "iopub.execute_input": "2025-02-10T14:26:18.209028Z",
     "iopub.status.busy": "2025-02-10T14:26:18.208745Z",
     "iopub.status.idle": "2025-02-10T14:26:18.558097Z",
     "shell.execute_reply": "2025-02-10T14:26:18.556832Z"
    },
    "papermill": {
     "duration": 0.358523,
     "end_time": "2025-02-10T14:26:18.561161",
     "exception": false,
     "start_time": "2025-02-10T14:26:18.202638",
     "status": "completed"
    },
    "tags": []
   },
   "outputs": [
    {
     "data": {
      "image/png": "[encoded data removed]",
      "text/plain": [
       "<Figure size 1000x600 with 1 Axes>"
      ]
     },
     "metadata": {},
     "output_type": "display_data"
    }
   ],
   "source": [
    "# XGBoost Feature Importance\n",
    "xgb_importance = model.get_booster().get_score(importance_type=\"gain\")\n",
    "xgb_importance_df = pd.DataFrame(list(xgb_importance.items()), columns=[\"Feature\", \"Importance\"])\n",
    "xgb_importance_df = xgb_importance_df.sort_values(by=\"Importance\", ascending=False).head(20)\n",
    "\n",
    "plt.figure(figsize=(10, 6))\n",
    "plt.barh(xgb_importance_df[\"Feature\"], xgb_importance_df[\"Importance\"], color=\"salmon\")\n",
    "plt.xlabel(\"Feature Importance (Gain)\")\n",
    "plt.ylabel(\"Features\")\n",
    "plt.title(\"XGBoost Feature Importance (Top 20)\")\n",
    "plt.gca().invert_yaxis()\n",
    "plt.show()\n"
   ]
  },
  {
   "cell_type": "code",
   "execution_count": 10,
   "id": "01958ee2",
   "metadata": {
    "execution": {
     "iopub.execute_input": "2025-02-10T14:26:18.580456Z",
     "iopub.status.busy": "2025-02-10T14:26:18.580100Z",
     "iopub.status.idle": "2025-02-10T14:26:22.663557Z",
     "shell.execute_reply": "2025-02-10T14:26:22.662650Z"
    },
    "papermill": {
     "duration": 4.093314,
     "end_time": "2025-02-10T14:26:22.664867",
     "exception": false,
     "start_time": "2025-02-10T14:26:18.571553",
     "status": "completed"
    },
    "tags": []
   },
   "outputs": [
    {
     "name": "stdout",
     "output_type": "stream",
     "text": [
      "LightGBM Version: 4.5.0\n"
     ]
    }
   ],
   "source": [
    "import lightgbm as lgb\n",
    "from lightgbm import LGBMRegressor\n",
    "\n",
    "print(\"LightGBM Version:\", lgb.__version__)"
   ]
  },
  {
   "cell_type": "code",
   "execution_count": 11,
   "id": "e9580a59",
   "metadata": {
    "execution": {
     "iopub.execute_input": "2025-02-10T14:26:22.679129Z",
     "iopub.status.busy": "2025-02-10T14:26:22.678514Z",
     "iopub.status.idle": "2025-02-10T14:26:22.739351Z",
     "shell.execute_reply": "2025-02-10T14:26:22.738608Z"
    },
    "papermill": {
     "duration": 0.06935,
     "end_time": "2025-02-10T14:26:22.740863",
     "exception": false,
     "start_time": "2025-02-10T14:26:22.671513",
     "status": "completed"
    },
    "tags": []
   },
   "outputs": [],
   "source": [
    "train_df = train.copy()\n",
    "test_df = test.copy()\n",
    "\n",
    "train_df[CATS] = train_df[CATS].fillna(\"Missing\").astype(\"category\")\n",
    "test_df[CATS] = test_df[CATS].fillna(\"Missing\").astype(\"category\")"
   ]
  },
  {
   "cell_type": "code",
   "execution_count": 12,
   "id": "a951b8da",
   "metadata": {
    "execution": {
     "iopub.execute_input": "2025-02-10T14:26:22.754596Z",
     "iopub.status.busy": "2025-02-10T14:26:22.754323Z",
     "iopub.status.idle": "2025-02-10T14:26:25.112357Z",
     "shell.execute_reply": "2025-02-10T14:26:25.111428Z"
    },
    "papermill": {
     "duration": 2.366411,
     "end_time": "2025-02-10T14:26:25.113830",
     "exception": false,
     "start_time": "2025-02-10T14:26:22.747419",
     "status": "completed"
    },
    "tags": []
   },
   "outputs": [
    {
     "name": "stdout",
     "output_type": "stream",
     "text": [
      "### Fold 1 ###\n",
      "Training until validation scores don't improve for 50 rounds\n",
      "[500]\tvalid_0's rmse: 28641.8\n",
      "Early stopping, best iteration is:\n",
      "[726]\tvalid_0's rmse: 28096.9\n",
      "### Fold 2 ###\n",
      "Training until validation scores don't improve for 50 rounds\n",
      "Early stopping, best iteration is:\n",
      "[262]\tvalid_0's rmse: 25614\n",
      "### Fold 3 ###\n",
      "Training until validation scores don't improve for 50 rounds\n",
      "Early stopping, best iteration is:\n",
      "[126]\tvalid_0's rmse: 35029\n",
      "### Fold 4 ###\n",
      "Training until validation scores don't improve for 50 rounds\n",
      "Early stopping, best iteration is:\n",
      "[267]\tvalid_0's rmse: 26131.8\n",
      "### Fold 5 ###\n",
      "Training until validation scores don't improve for 50 rounds\n",
      "[500]\tvalid_0's rmse: 20852.3\n",
      "Early stopping, best iteration is:\n",
      "[617]\tvalid_0's rmse: 20730\n",
      "Validation RMSE: 27514.157447458587\n",
      "CPU times: user 4.32 s, sys: 153 ms, total: 4.47 s\n",
      "Wall time: 2.35 s\n"
     ]
    }
   ],
   "source": [
    "%%time\n",
    "\n",
    "FOLDS = 5\n",
    "kf = KFold(n_splits=FOLDS, shuffle=True, random_state=42)\n",
    "\n",
    "oof_preds_lgb = np.zeros(len(train_df))\n",
    "test_preds_lgb = np.zeros(len(test_df))\n",
    "\n",
    "lgb_params = {\n",
    "    \"n_estimators\": 2000,\n",
    "    \"learning_rate\": 0.02,\n",
    "    \"max_depth\": 6,\n",
    "    \"objective\": \"regression\",\n",
    "    \"metric\": \"rmse\",\n",
    "    \"random_state\": 42,\n",
    "    \"verbose\": -1,\n",
    "    # \"device\": \"gpu\",  # GPU\n",
    "}\n",
    "\n",
    "for fold, (train_idx, valid_idx) in enumerate(kf.split(train_df)):\n",
    "    print(f\"### Fold {fold+1} ###\")\n",
    "\n",
    "    X_train, y_train = train_df.iloc[train_idx][FEATURES], train_df.iloc[train_idx][TARGET]\n",
    "    X_valid, y_valid = train_df.iloc[valid_idx][FEATURES], train_df.iloc[valid_idx][TARGET]\n",
    "    X_test = test_df[FEATURES]\n",
    "\n",
    "    model = LGBMRegressor(**lgb_params)\n",
    "\n",
    "    model.fit(\n",
    "        X_train, y_train,\n",
    "        eval_set=[(X_valid, y_valid)],\n",
    "        categorical_feature=CATS,\n",
    "        callbacks=[lgb.early_stopping(50), lgb.log_evaluation(500)],\n",
    "    )\n",
    "\n",
    "    oof_preds_lgb[valid_idx] = model.predict(X_valid)\n",
    "    test_preds_lgb += model.predict(X_test) / FOLDS\n",
    "\n",
    "rmse = np.sqrt(mean_squared_error(train_df[TARGET], oof_preds_lgb))\n",
    "print(f\"Validation RMSE: {rmse}\")\n"
   ]
  },
  {
   "cell_type": "code",
   "execution_count": 13,
   "id": "e5210e10",
   "metadata": {
    "execution": {
     "iopub.execute_input": "2025-02-10T14:26:25.129585Z",
     "iopub.status.busy": "2025-02-10T14:26:25.129321Z",
     "iopub.status.idle": "2025-02-10T14:26:25.133672Z",
     "shell.execute_reply": "2025-02-10T14:26:25.133069Z"
    },
    "papermill": {
     "duration": 0.012593,
     "end_time": "2025-02-10T14:26:25.134890",
     "exception": false,
     "start_time": "2025-02-10T14:26:25.122297",
     "status": "completed"
    },
    "tags": []
   },
   "outputs": [],
   "source": [
    "def plot_feature_importance(importances, feature_names, model_name, top_n=20):\n",
    "    importance_df = pd.DataFrame({\"Feature\": feature_names, \"Importance\": importances})\n",
    "    importance_df = importance_df.sort_values(by=\"Importance\", ascending=False).head(top_n) \n",
    "\n",
    "    plt.figure(figsize=(10, 6))\n",
    "    plt.barh(importance_df[\"Feature\"], importance_df[\"Importance\"], color=\"skyblue\")\n",
    "    plt.xlabel(\"Feature Importance\")\n",
    "    plt.ylabel(\"Features\")\n",
    "    plt.title(f\"{model_name} Feature Importance (Top {top_n})\")\n",
    "    plt.gca().invert_yaxis()\n",
    "    plt.show()"
   ]
  },
  {
   "cell_type": "code",
   "execution_count": 14,
   "id": "48b5f8fd",
   "metadata": {
    "execution": {
     "iopub.execute_input": "2025-02-10T14:26:25.149533Z",
     "iopub.status.busy": "2025-02-10T14:26:25.149279Z",
     "iopub.status.idle": "2025-02-10T14:26:25.392144Z",
     "shell.execute_reply": "2025-02-10T14:26:25.391288Z"
    },
    "papermill": {
     "duration": 0.251978,
     "end_time": "2025-02-10T14:26:25.393609",
     "exception": false,
     "start_time": "2025-02-10T14:26:25.141631",
     "status": "completed"
    },
    "tags": []
   },
   "outputs": [
    {
     "data": {
      "image/png": "[encoded data removed]",
      "text/plain": [
       "<Figure size 1000x600 with 1 Axes>"
      ]
     },
     "metadata": {},
     "output_type": "display_data"
    }
   ],
   "source": [
    "plot_feature_importance(model.feature_importances_, FEATURES, \"LightGBM\")"
   ]
  },
  {
   "cell_type": "code",
   "execution_count": 15,
   "id": "719ecc48",
   "metadata": {
    "execution": {
     "iopub.execute_input": "2025-02-10T14:26:25.409898Z",
     "iopub.status.busy": "2025-02-10T14:26:25.409650Z",
     "iopub.status.idle": "2025-02-10T14:26:25.619499Z",
     "shell.execute_reply": "2025-02-10T14:26:25.618691Z"
    },
    "papermill": {
     "duration": 0.219384,
     "end_time": "2025-02-10T14:26:25.620859",
     "exception": false,
     "start_time": "2025-02-10T14:26:25.401475",
     "status": "completed"
    },
    "tags": []
   },
   "outputs": [
    {
     "name": "stdout",
     "output_type": "stream",
     "text": [
      "CatBoost Version: 1.2.7\n"
     ]
    }
   ],
   "source": [
    "import catboost as cbt\n",
    "from catboost import CatBoostRegressor\n",
    "\n",
    "print(\"CatBoost Version:\", cbt.__version__)"
   ]
  },
  {
   "cell_type": "code",
   "execution_count": 16,
   "id": "14127621",
   "metadata": {
    "execution": {
     "iopub.execute_input": "2025-02-10T14:26:25.636867Z",
     "iopub.status.busy": "2025-02-10T14:26:25.636637Z",
     "iopub.status.idle": "2025-02-10T14:26:25.656710Z",
     "shell.execute_reply": "2025-02-10T14:26:25.655930Z"
    },
    "papermill": {
     "duration": 0.029423,
     "end_time": "2025-02-10T14:26:25.658059",
     "exception": false,
     "start_time": "2025-02-10T14:26:25.628636",
     "status": "completed"
    },
    "tags": []
   },
   "outputs": [],
   "source": [
    "train_df = train.copy()\n",
    "test_df = test.copy()\n",
    "\n",
    "train_df[CATS] = train_df[CATS].astype(str)\n",
    "test_df[CATS] = test_df[CATS].astype(str)"
   ]
  },
  {
   "cell_type": "code",
   "execution_count": 17,
   "id": "08ec7fd3",
   "metadata": {
    "execution": {
     "iopub.execute_input": "2025-02-10T14:26:25.674150Z",
     "iopub.status.busy": "2025-02-10T14:26:25.673878Z",
     "iopub.status.idle": "2025-02-10T14:28:11.509120Z",
     "shell.execute_reply": "2025-02-10T14:28:11.508186Z"
    },
    "papermill": {
     "duration": 105.844566,
     "end_time": "2025-02-10T14:28:11.510424",
     "exception": false,
     "start_time": "2025-02-10T14:26:25.665858",
     "status": "completed"
    },
    "tags": []
   },
   "outputs": [
    {
     "name": "stdout",
     "output_type": "stream",
     "text": [
      "### Fold 1 ###\n",
      "0:\tlearn: 76277.9792898\ttest: 86643.3078284\tbest: 86643.3078284 (0)\ttotal: 71ms\tremaining: 2m 21s\n",
      "500:\tlearn: 16242.9633269\ttest: 26845.6962464\tbest: 26845.6962464 (500)\ttotal: 7.66s\tremaining: 22.9s\n",
      "1000:\tlearn: 12786.8573515\ttest: 26100.3558001\tbest: 26092.8209799 (994)\ttotal: 15.8s\tremaining: 15.8s\n",
      "Stopped by overfitting detector  (50 iterations wait)\n",
      "\n",
      "bestTest = 25861.55236\n",
      "bestIteration = 1385\n",
      "\n",
      "Shrink model to first 1386 iterations.\n",
      "### Fold 2 ###\n",
      "0:\tlearn: 77637.6293659\ttest: 81652.4989264\tbest: 81652.4989264 (0)\ttotal: 19.4ms\tremaining: 38.8s\n",
      "500:\tlearn: 16884.7379526\ttest: 24021.8651498\tbest: 24017.2645077 (499)\ttotal: 8.12s\tremaining: 24.3s\n",
      "1000:\tlearn: 13013.1563297\ttest: 23103.0086092\tbest: 23094.9683610 (998)\ttotal: 16.3s\tremaining: 16.2s\n",
      "Stopped by overfitting detector  (50 iterations wait)\n",
      "\n",
      "bestTest = 23068.57152\n",
      "bestIteration = 1050\n",
      "\n",
      "Shrink model to first 1051 iterations.\n",
      "### Fold 3 ###\n",
      "0:\tlearn: 79599.7400052\ttest: 73324.9210170\tbest: 73324.9210170 (0)\ttotal: 14ms\tremaining: 27.9s\n",
      "Stopped by overfitting detector  (50 iterations wait)\n",
      "\n",
      "bestTest = 37925.8614\n",
      "bestIteration = 118\n",
      "\n",
      "Shrink model to first 119 iterations.\n",
      "### Fold 4 ###\n",
      "0:\tlearn: 78433.2953342\ttest: 78259.7391148\tbest: 78259.7391148 (0)\ttotal: 14.7ms\tremaining: 29.4s\n",
      "500:\tlearn: 16242.4238752\ttest: 27935.9825883\tbest: 27935.9825883 (500)\ttotal: 7.48s\tremaining: 22.4s\n",
      "1000:\tlearn: 12374.5395505\ttest: 26751.2790606\tbest: 26743.3613614 (988)\ttotal: 16s\tremaining: 16s\n",
      "1500:\tlearn: 9832.9758708\ttest: 26293.7634246\tbest: 26288.0513515 (1490)\ttotal: 24.2s\tremaining: 8.04s\n",
      "Stopped by overfitting detector  (50 iterations wait)\n",
      "\n",
      "bestTest = 26137.09719\n",
      "bestIteration = 1788\n",
      "\n",
      "Shrink model to first 1789 iterations.\n",
      "### Fold 5 ###\n",
      "0:\tlearn: 80053.9059623\ttest: 71328.9596222\tbest: 71328.9596222 (0)\ttotal: 17.2ms\tremaining: 34.5s\n",
      "500:\tlearn: 16934.6074758\ttest: 20021.8626583\tbest: 20021.6885192 (499)\ttotal: 7.58s\tremaining: 22.7s\n",
      "1000:\tlearn: 12822.1297071\ttest: 19241.4990146\tbest: 19241.4990146 (1000)\ttotal: 16s\tremaining: 16s\n",
      "1500:\tlearn: 10524.7757554\ttest: 18908.4773265\tbest: 18908.4773265 (1500)\ttotal: 24.2s\tremaining: 8.05s\n",
      "Stopped by overfitting detector  (50 iterations wait)\n",
      "\n",
      "bestTest = 18748.59639\n",
      "bestIteration = 1877\n",
      "\n",
      "Shrink model to first 1878 iterations.\n",
      "Validation RMSE: 27107.222512564727\n",
      "CPU times: user 5min 31s, sys: 45 s, total: 6min 16s\n",
      "Wall time: 1min 45s\n"
     ]
    }
   ],
   "source": [
    "%%time\n",
    "\n",
    "FOLDS = 5\n",
    "kf = KFold(n_splits=FOLDS, shuffle=True, random_state=42)\n",
    "\n",
    "oof_preds_cat = np.zeros(len(train_df))\n",
    "test_preds_cat = np.zeros(len(test_df))\n",
    "\n",
    "catboost_params = {\n",
    "    \"iterations\": 2000,\n",
    "    \"learning_rate\": 0.02,\n",
    "    \"depth\": 6,\n",
    "    \"loss_function\": \"RMSE\",\n",
    "    \"eval_metric\": \"RMSE\",\n",
    "    \"random_seed\": 42,\n",
    "    \"early_stopping_rounds\": 50,\n",
    "    \"cat_features\": CATS,\n",
    "    \"verbose\": 500\n",
    "}\n",
    "\n",
    "for fold, (train_idx, valid_idx) in enumerate(kf.split(train_df)):\n",
    "    print(f\"### Fold {fold+1} ###\")\n",
    "\n",
    "    X_train, y_train = train_df.iloc[train_idx][FEATURES], train_df.iloc[train_idx][TARGET]\n",
    "    X_valid, y_valid = train_df.iloc[valid_idx][FEATURES], train_df.iloc[valid_idx][TARGET]\n",
    "    X_test = test_df[FEATURES]\n",
    "\n",
    "    model = CatBoostRegressor(**catboost_params)\n",
    "    model.fit(X_train, y_train, eval_set=(X_valid, y_valid), use_best_model=True)\n",
    "\n",
    "    oof_preds_cat[valid_idx] = model.predict(X_valid)\n",
    "    test_preds_cat += model.predict(X_test) / FOLDS\n",
    "\n",
    "rmse = np.sqrt(mean_squared_error(train_df[TARGET], oof_preds_cat))\n",
    "print(f\"Validation RMSE: {rmse}\")"
   ]
  },
  {
   "cell_type": "code",
   "execution_count": 18,
   "id": "5e02a3c4",
   "metadata": {
    "execution": {
     "iopub.execute_input": "2025-02-10T14:28:11.528358Z",
     "iopub.status.busy": "2025-02-10T14:28:11.528090Z",
     "iopub.status.idle": "2025-02-10T14:28:11.785920Z",
     "shell.execute_reply": "2025-02-10T14:28:11.785067Z"
    },
    "papermill": {
     "duration": 0.268215,
     "end_time": "2025-02-10T14:28:11.787406",
     "exception": false,
     "start_time": "2025-02-10T14:28:11.519191",
     "status": "completed"
    },
    "tags": []
   },
   "outputs": [
    {
     "data": {
      "image/png": "[encoded data removed]",
      "text/plain": [
       "<Figure size 1000x600 with 1 Axes>"
      ]
     },
     "metadata": {},
     "output_type": "display_data"
    }
   ],
   "source": [
    "# CatBoost Feature Importance\n",
    "cat_importance = model.get_feature_importance()\n",
    "plot_feature_importance(cat_importance, FEATURES, \"CatBoost\")"
   ]
  },
  {
   "cell_type": "code",
   "execution_count": 19,
   "id": "0d5a7793",
   "metadata": {
    "execution": {
     "iopub.execute_input": "2025-02-10T14:28:11.807467Z",
     "iopub.status.busy": "2025-02-10T14:28:11.807168Z",
     "iopub.status.idle": "2025-02-10T14:28:11.891801Z",
     "shell.execute_reply": "2025-02-10T14:28:11.890876Z"
    },
    "papermill": {
     "duration": 0.09636,
     "end_time": "2025-02-10T14:28:11.893442",
     "exception": false,
     "start_time": "2025-02-10T14:28:11.797082",
     "status": "completed"
    },
    "tags": []
   },
   "outputs": [],
   "source": [
    "from sklearn.linear_model import Ridge"
   ]
  },
  {
   "cell_type": "code",
   "execution_count": 20,
   "id": "62358aaf",
   "metadata": {
    "execution": {
     "iopub.execute_input": "2025-02-10T14:28:11.913536Z",
     "iopub.status.busy": "2025-02-10T14:28:11.913258Z",
     "iopub.status.idle": "2025-02-10T14:28:11.944770Z",
     "shell.execute_reply": "2025-02-10T14:28:11.943950Z"
    },
    "papermill": {
     "duration": 0.042722,
     "end_time": "2025-02-10T14:28:11.946071",
     "exception": false,
     "start_time": "2025-02-10T14:28:11.903349",
     "status": "completed"
    },
    "tags": []
   },
   "outputs": [
    {
     "name": "stdout",
     "output_type": "stream",
     "text": [
      "Stacking Model Validation RMSE: 26094.44724702117\n",
      "CPU times: user 20.9 ms, sys: 2.23 ms, total: 23.1 ms\n",
      "Wall time: 26.3 ms\n"
     ]
    }
   ],
   "source": [
    "%%time\n",
    "\n",
    "X_train_stack = np.column_stack((oof_preds_xgb, oof_preds_lgb, oof_preds_cat))\n",
    "y_train_stack = train_df[TARGET].values\n",
    "\n",
    "X_test_stack = np.column_stack((test_preds_xgb, test_preds_lgb, test_preds_cat))\n",
    "\n",
    "ridge = Ridge(alpha=1.0)\n",
    "ridge.fit(X_train_stack, y_train_stack)\n",
    "\n",
    "oof_preds_stack = ridge.predict(X_train_stack)\n",
    "test_preds_stack = ridge.predict(X_test_stack)\n",
    "\n",
    "rmse_stack = np.sqrt(mean_squared_error(y_train_stack, oof_preds_stack))\n",
    "print(f\"Stacking Model Validation RMSE: {rmse_stack}\")"
   ]
  },
  {
   "cell_type": "code",
   "execution_count": 21,
   "id": "23e4e94a",
   "metadata": {
    "execution": {
     "iopub.execute_input": "2025-02-10T14:28:11.965438Z",
     "iopub.status.busy": "2025-02-10T14:28:11.965189Z",
     "iopub.status.idle": "2025-02-10T14:28:11.968185Z",
     "shell.execute_reply": "2025-02-10T14:28:11.967596Z"
    },
    "papermill": {
     "duration": 0.014008,
     "end_time": "2025-02-10T14:28:11.969429",
     "exception": false,
     "start_time": "2025-02-10T14:28:11.955421",
     "status": "completed"
    },
    "tags": []
   },
   "outputs": [],
   "source": [
    "import scipy.optimize as opt"
   ]
  },
  {
   "cell_type": "code",
   "execution_count": 22,
   "id": "7d4084d2",
   "metadata": {
    "execution": {
     "iopub.execute_input": "2025-02-10T14:28:11.988821Z",
     "iopub.status.busy": "2025-02-10T14:28:11.988561Z",
     "iopub.status.idle": "2025-02-10T14:28:12.004398Z",
     "shell.execute_reply": "2025-02-10T14:28:12.003469Z"
    },
    "papermill": {
     "duration": 0.026955,
     "end_time": "2025-02-10T14:28:12.005728",
     "exception": false,
     "start_time": "2025-02-10T14:28:11.978773",
     "status": "completed"
    },
    "tags": []
   },
   "outputs": [
    {
     "name": "stdout",
     "output_type": "stream",
     "text": [
      "Optimal Weights: [0.26494893 0.27589749 0.45915358]\n",
      "Climb Hill Stacking Validation RMSE: 26328.984109268247\n",
      "CPU times: user 10.5 ms, sys: 1.06 ms, total: 11.6 ms\n",
      "Wall time: 10.9 ms\n"
     ]
    }
   ],
   "source": [
    "%%time\n",
    "\n",
    "X_train_hill = np.column_stack((oof_preds_xgb, oof_preds_lgb, oof_preds_cat))\n",
    "y_train_hill = train_df[TARGET].values\n",
    "X_test_hill = np.column_stack((test_preds_xgb, test_preds_lgb, test_preds_cat))\n",
    "\n",
    "def rmse_loss(weights):\n",
    "    blended_preds = np.dot(X_train_stack, weights)\n",
    "    return np.sqrt(mean_squared_error(y_train_hill, blended_preds))\n",
    "\n",
    "init_weights = np.ones(X_train_stack.shape[1]) / X_train_stack.shape[1]\n",
    "constraints = {\"type\": \"eq\", \"fun\": lambda w: np.sum(w) - 1}\n",
    "\n",
    "bounds = [(0, 1)] * X_train_stack.shape[1]\n",
    "\n",
    "result = opt.minimize(rmse_loss, init_weights, method=\"SLSQP\", bounds=bounds, constraints=constraints)\n",
    "\n",
    "best_weights = result.x\n",
    "print(f\"Optimal Weights: {best_weights}\")\n",
    "\n",
    "oof_preds_hill = np.dot(X_train_stack, best_weights)\n",
    "rmse_stack = np.sqrt(mean_squared_error(y_train_hill, oof_preds_hill))\n",
    "print(f\"Climb Hill Stacking Validation RMSE: {rmse_stack}\")\n",
    "\n",
    "test_preds_hill = np.dot(X_test_hill, best_weights)"
   ]
  },
  {
   "cell_type": "code",
   "execution_count": 23,
   "id": "f50a1e9b",
   "metadata": {
    "execution": {
     "iopub.execute_input": "2025-02-10T14:28:12.025692Z",
     "iopub.status.busy": "2025-02-10T14:28:12.025459Z",
     "iopub.status.idle": "2025-02-10T14:28:12.041748Z",
     "shell.execute_reply": "2025-02-10T14:28:12.041143Z"
    },
    "papermill": {
     "duration": 0.027737,
     "end_time": "2025-02-10T14:28:12.043106",
     "exception": false,
     "start_time": "2025-02-10T14:28:12.015369",
     "status": "completed"
    },
    "tags": []
   },
   "outputs": [],
   "source": [
    "sub = pd.read_csv('/kaggle/input/home-data-for-ml-course/sample_submission.csv')\n",
    "sub[TARGET] = test_preds_stack\n",
    "sub.to_csv(\"submission.csv\", index=False)"
   ]
  }
 ],
 "metadata": {
  "kaggle": {
   "accelerator": "none",
   "dataSources": [
    {
     "databundleVersionId": 111096,
     "sourceId": 10211,
     "sourceType": "competition"
    }
   ],
   "dockerImageVersionId": 30886,
   "isGpuEnabled": false,
   "isInternetEnabled": true,
   "language": "python",
   "sourceType": "notebook"
  },
  "kernelspec": {
   "display_name": "Python 3",
   "language": "python",
   "name": "python3"
  },
  "language_info": {
   "codemirror_mode": {
    "name": "ipython",
    "version": 3
   },
   "file_extension": ".py",
   "mimetype": "text/x-python",
   "name": "python",
   "nbconvert_exporter": "python",
   "pygments_lexer": "ipython3",
   "version": "3.10.12"
  },
  "papermill": {
   "default_parameters": {},
   "duration": 130.428906,
   "end_time": "2025-02-10T14:28:13.271974",
   "environment_variables": {},
   "exception": null,
   "input_path": "__notebook__.ipynb",
   "output_path": "__notebook__.ipynb",
   "parameters": {},
   "start_time": "2025-02-10T14:26:02.843068",
   "version": "2.6.0"
  }
 },
 "nbformat": 4,
 "nbformat_minor": 5
}
