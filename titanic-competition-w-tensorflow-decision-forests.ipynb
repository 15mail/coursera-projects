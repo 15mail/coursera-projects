{
 "cells": [
  {
   "cell_type": "markdown",
   "id": "ebc7b4e9",
   "metadata": {
    "papermill": {
     "duration": 0.005988,
     "end_time": "2025-02-05T09:40:48.243069",
     "exception": false,
     "start_time": "2025-02-05T09:40:48.237081",
     "status": "completed"
    },
    "tags": []
   },
   "source": [
    "# Titanic competition with TensorFlow Decision Forests\n",
    "\n",
    "This notebook will take you through the steps needed to train a baseline Gradient Boosted Trees Model using TensorFlow Decision Forests and creating a submission on the Titanic competition. \n",
    "\n",
    "This notebook shows:\n",
    "\n",
    "1. How to do some basic pre-processing. For example, the passenger names will be tokenized, and ticket names will be splitted in parts.\n",
    "1. How to train a Gradient Boosted Trees (GBT) with default parameters\n",
    "1. How to train a GBT with improved default parameters\n",
    "1. How to tune the parameters of a GBTs\n",
    "1. How to train and ensemble many GBTs"
   ]
  },
  {
   "cell_type": "markdown",
   "id": "a9ef3ca5",
   "metadata": {
    "papermill": {
     "duration": 0.004344,
     "end_time": "2025-02-05T09:40:48.252300",
     "exception": false,
     "start_time": "2025-02-05T09:40:48.247956",
     "status": "completed"
    },
    "tags": []
   },
   "source": [
    "# Imports dependencies"
   ]
  },
  {
   "cell_type": "code",
   "execution_count": 1,
   "id": "f10ac28f",
   "metadata": {
    "execution": {
     "iopub.execute_input": "2025-02-05T09:40:48.263752Z",
     "iopub.status.busy": "2025-02-05T09:40:48.263194Z",
     "iopub.status.idle": "2025-02-05T09:40:59.271882Z",
     "shell.execute_reply": "2025-02-05T09:40:59.270511Z"
    },
    "papermill": {
     "duration": 11.018155,
     "end_time": "2025-02-05T09:40:59.275080",
     "exception": false,
     "start_time": "2025-02-05T09:40:48.256925",
     "status": "completed"
    },
    "tags": []
   },
   "outputs": [
    {
     "name": "stdout",
     "output_type": "stream",
     "text": [
      "Found TF-DF 1.2.0\n"
     ]
    }
   ],
   "source": [
    "import numpy as np\n",
    "import pandas as pd\n",
    "import os\n",
    "\n",
    "import tensorflow as tf\n",
    "import tensorflow_decision_forests as tfdf\n",
    "\n",
    "print(f\"Found TF-DF {tfdf.__version__}\")"
   ]
  },
  {
   "cell_type": "markdown",
   "id": "5377a166",
   "metadata": {
    "papermill": {
     "duration": 0.004356,
     "end_time": "2025-02-05T09:40:59.284428",
     "exception": false,
     "start_time": "2025-02-05T09:40:59.280072",
     "status": "completed"
    },
    "tags": []
   },
   "source": [
    "# Load dataset"
   ]
  },
  {
   "cell_type": "code",
   "execution_count": 2,
   "id": "cbc40e0a",
   "metadata": {
    "execution": {
     "iopub.execute_input": "2025-02-05T09:40:59.295542Z",
     "iopub.status.busy": "2025-02-05T09:40:59.294849Z",
     "iopub.status.idle": "2025-02-05T09:40:59.350641Z",
     "shell.execute_reply": "2025-02-05T09:40:59.349466Z"
    },
    "papermill": {
     "duration": 0.064247,
     "end_time": "2025-02-05T09:40:59.353127",
     "exception": false,
     "start_time": "2025-02-05T09:40:59.288880",
     "status": "completed"
    },
    "tags": []
   },
   "outputs": [
    {
     "data": {
      "text/html": [
       "<div>\n",
       "<style scoped>\n",
       "    .dataframe tbody tr th:only-of-type {\n",
       "        vertical-align: middle;\n",
       "    }\n",
       "\n",
       "    .dataframe tbody tr th {\n",
       "        vertical-align: top;\n",
       "    }\n",
       "\n",
       "    .dataframe thead th {\n",
       "        text-align: right;\n",
       "    }\n",
       "</style>\n",
       "<table border=\"1\" class=\"dataframe\">\n",
       "  <thead>\n",
       "    <tr style=\"text-align: right;\">\n",
       "      <th></th>\n",
       "      <th>PassengerId</th>\n",
       "      <th>Survived</th>\n",
       "      <th>Pclass</th>\n",
       "      <th>Name</th>\n",
       "      <th>Sex</th>\n",
       "      <th>Age</th>\n",
       "      <th>SibSp</th>\n",
       "      <th>Parch</th>\n",
       "      <th>Ticket</th>\n",
       "      <th>Fare</th>\n",
       "      <th>Cabin</th>\n",
       "      <th>Embarked</th>\n",
       "    </tr>\n",
       "  </thead>\n",
       "  <tbody>\n",
       "    <tr>\n",
       "      <th>0</th>\n",
       "      <td>1</td>\n",
       "      <td>0</td>\n",
       "      <td>3</td>\n",
       "      <td>Braund, Mr. Owen Harris</td>\n",
       "      <td>male</td>\n",
       "      <td>22.0</td>\n",
       "      <td>1</td>\n",
       "      <td>0</td>\n",
       "      <td>A/5 21171</td>\n",
       "      <td>7.2500</td>\n",
       "      <td>NaN</td>\n",
       "      <td>S</td>\n",
       "    </tr>\n",
       "    <tr>\n",
       "      <th>1</th>\n",
       "      <td>2</td>\n",
       "      <td>1</td>\n",
       "      <td>1</td>\n",
       "      <td>Cumings, Mrs. John Bradley (Florence Briggs Th...</td>\n",
       "      <td>female</td>\n",
       "      <td>38.0</td>\n",
       "      <td>1</td>\n",
       "      <td>0</td>\n",
       "      <td>PC 17599</td>\n",
       "      <td>71.2833</td>\n",
       "      <td>C85</td>\n",
       "      <td>C</td>\n",
       "    </tr>\n",
       "    <tr>\n",
       "      <th>2</th>\n",
       "      <td>3</td>\n",
       "      <td>1</td>\n",
       "      <td>3</td>\n",
       "      <td>Heikkinen, Miss. Laina</td>\n",
       "      <td>female</td>\n",
       "      <td>26.0</td>\n",
       "      <td>0</td>\n",
       "      <td>0</td>\n",
       "      <td>STON/O2. 3101282</td>\n",
       "      <td>7.9250</td>\n",
       "      <td>NaN</td>\n",
       "      <td>S</td>\n",
       "    </tr>\n",
       "    <tr>\n",
       "      <th>3</th>\n",
       "      <td>4</td>\n",
       "      <td>1</td>\n",
       "      <td>1</td>\n",
       "      <td>Futrelle, Mrs. Jacques Heath (Lily May Peel)</td>\n",
       "      <td>female</td>\n",
       "      <td>35.0</td>\n",
       "      <td>1</td>\n",
       "      <td>0</td>\n",
       "      <td>113803</td>\n",
       "      <td>53.1000</td>\n",
       "      <td>C123</td>\n",
       "      <td>S</td>\n",
       "    </tr>\n",
       "    <tr>\n",
       "      <th>4</th>\n",
       "      <td>5</td>\n",
       "      <td>0</td>\n",
       "      <td>3</td>\n",
       "      <td>Allen, Mr. William Henry</td>\n",
       "      <td>male</td>\n",
       "      <td>35.0</td>\n",
       "      <td>0</td>\n",
       "      <td>0</td>\n",
       "      <td>373450</td>\n",
       "      <td>8.0500</td>\n",
       "      <td>NaN</td>\n",
       "      <td>S</td>\n",
       "    </tr>\n",
       "    <tr>\n",
       "      <th>5</th>\n",
       "      <td>6</td>\n",
       "      <td>0</td>\n",
       "      <td>3</td>\n",
       "      <td>Moran, Mr. James</td>\n",
       "      <td>male</td>\n",
       "      <td>NaN</td>\n",
       "      <td>0</td>\n",
       "      <td>0</td>\n",
       "      <td>330877</td>\n",
       "      <td>8.4583</td>\n",
       "      <td>NaN</td>\n",
       "      <td>Q</td>\n",
       "    </tr>\n",
       "    <tr>\n",
       "      <th>6</th>\n",
       "      <td>7</td>\n",
       "      <td>0</td>\n",
       "      <td>1</td>\n",
       "      <td>McCarthy, Mr. Timothy J</td>\n",
       "      <td>male</td>\n",
       "      <td>54.0</td>\n",
       "      <td>0</td>\n",
       "      <td>0</td>\n",
       "      <td>17463</td>\n",
       "      <td>51.8625</td>\n",
       "      <td>E46</td>\n",
       "      <td>S</td>\n",
       "    </tr>\n",
       "    <tr>\n",
       "      <th>7</th>\n",
       "      <td>8</td>\n",
       "      <td>0</td>\n",
       "      <td>3</td>\n",
       "      <td>Palsson, Master. Gosta Leonard</td>\n",
       "      <td>male</td>\n",
       "      <td>2.0</td>\n",
       "      <td>3</td>\n",
       "      <td>1</td>\n",
       "      <td>349909</td>\n",
       "      <td>21.0750</td>\n",
       "      <td>NaN</td>\n",
       "      <td>S</td>\n",
       "    </tr>\n",
       "    <tr>\n",
       "      <th>8</th>\n",
       "      <td>9</td>\n",
       "      <td>1</td>\n",
       "      <td>3</td>\n",
       "      <td>Johnson, Mrs. Oscar W (Elisabeth Vilhelmina Berg)</td>\n",
       "      <td>female</td>\n",
       "      <td>27.0</td>\n",
       "      <td>0</td>\n",
       "      <td>2</td>\n",
       "      <td>347742</td>\n",
       "      <td>11.1333</td>\n",
       "      <td>NaN</td>\n",
       "      <td>S</td>\n",
       "    </tr>\n",
       "    <tr>\n",
       "      <th>9</th>\n",
       "      <td>10</td>\n",
       "      <td>1</td>\n",
       "      <td>2</td>\n",
       "      <td>Nasser, Mrs. Nicholas (Adele Achem)</td>\n",
       "      <td>female</td>\n",
       "      <td>14.0</td>\n",
       "      <td>1</td>\n",
       "      <td>0</td>\n",
       "      <td>237736</td>\n",
       "      <td>30.0708</td>\n",
       "      <td>NaN</td>\n",
       "      <td>C</td>\n",
       "    </tr>\n",
       "  </tbody>\n",
       "</table>\n",
       "</div>"
      ],
      "text/plain": [
       "   PassengerId  Survived  Pclass  \\\n",
       "0            1         0       3   \n",
       "1            2         1       1   \n",
       "2            3         1       3   \n",
       "3            4         1       1   \n",
       "4            5         0       3   \n",
       "5            6         0       3   \n",
       "6            7         0       1   \n",
       "7            8         0       3   \n",
       "8            9         1       3   \n",
       "9           10         1       2   \n",
       "\n",
       "                                                Name     Sex   Age  SibSp  \\\n",
       "0                            Braund, Mr. Owen Harris    male  22.0      1   \n",
       "1  Cumings, Mrs. John Bradley (Florence Briggs Th...  female  38.0      1   \n",
       "2                             Heikkinen, Miss. Laina  female  26.0      0   \n",
       "3       Futrelle, Mrs. Jacques Heath (Lily May Peel)  female  35.0      1   \n",
       "4                           Allen, Mr. William Henry    male  35.0      0   \n",
       "5                                   Moran, Mr. James    male   NaN      0   \n",
       "6                            McCarthy, Mr. Timothy J    male  54.0      0   \n",
       "7                     Palsson, Master. Gosta Leonard    male   2.0      3   \n",
       "8  Johnson, Mrs. Oscar W (Elisabeth Vilhelmina Berg)  female  27.0      0   \n",
       "9                Nasser, Mrs. Nicholas (Adele Achem)  female  14.0      1   \n",
       "\n",
       "   Parch            Ticket     Fare Cabin Embarked  \n",
       "0      0         A/5 21171   7.2500   NaN        S  \n",
       "1      0          PC 17599  71.2833   C85        C  \n",
       "2      0  STON/O2. 3101282   7.9250   NaN        S  \n",
       "3      0            113803  53.1000  C123        S  \n",
       "4      0            373450   8.0500   NaN        S  \n",
       "5      0            330877   8.4583   NaN        Q  \n",
       "6      0             17463  51.8625   E46        S  \n",
       "7      1            349909  21.0750   NaN        S  \n",
       "8      2            347742  11.1333   NaN        S  \n",
       "9      0            237736  30.0708   NaN        C  "
      ]
     },
     "execution_count": 2,
     "metadata": {},
     "output_type": "execute_result"
    }
   ],
   "source": [
    "train_df = pd.read_csv(\"/kaggle/input/titanic/train.csv\")\n",
    "serving_df = pd.read_csv(\"/kaggle/input/titanic/test.csv\")\n",
    "\n",
    "train_df.head(10)"
   ]
  },
  {
   "cell_type": "markdown",
   "id": "31eddb5c",
   "metadata": {
    "papermill": {
     "duration": 0.005416,
     "end_time": "2025-02-05T09:40:59.363741",
     "exception": false,
     "start_time": "2025-02-05T09:40:59.358325",
     "status": "completed"
    },
    "tags": []
   },
   "source": [
    "# Prepare dataset\n",
    "\n",
    "We will apply the following transformations on the dataset.\n",
    "\n",
    "1. Tokenize the names. For example, \"Braund, Mr. Owen Harris\" will become [\"Braund\", \"Mr.\", \"Owen\", \"Harris\"].\n",
    "2. Extract any prefix in the ticket. For example ticket \"STON/O2. 3101282\" will become \"STON/O2.\" and 3101282."
   ]
  },
  {
   "cell_type": "code",
   "execution_count": 3,
   "id": "d336e37a",
   "metadata": {
    "execution": {
     "iopub.execute_input": "2025-02-05T09:40:59.375839Z",
     "iopub.status.busy": "2025-02-05T09:40:59.375431Z",
     "iopub.status.idle": "2025-02-05T09:40:59.408325Z",
     "shell.execute_reply": "2025-02-05T09:40:59.406941Z"
    },
    "papermill": {
     "duration": 0.041845,
     "end_time": "2025-02-05T09:40:59.410674",
     "exception": false,
     "start_time": "2025-02-05T09:40:59.368829",
     "status": "completed"
    },
    "tags": []
   },
   "outputs": [
    {
     "data": {
      "text/html": [
       "<div>\n",
       "<style scoped>\n",
       "    .dataframe tbody tr th:only-of-type {\n",
       "        vertical-align: middle;\n",
       "    }\n",
       "\n",
       "    .dataframe tbody tr th {\n",
       "        vertical-align: top;\n",
       "    }\n",
       "\n",
       "    .dataframe thead th {\n",
       "        text-align: right;\n",
       "    }\n",
       "</style>\n",
       "<table border=\"1\" class=\"dataframe\">\n",
       "  <thead>\n",
       "    <tr style=\"text-align: right;\">\n",
       "      <th></th>\n",
       "      <th>PassengerId</th>\n",
       "      <th>Survived</th>\n",
       "      <th>Pclass</th>\n",
       "      <th>Name</th>\n",
       "      <th>Sex</th>\n",
       "      <th>Age</th>\n",
       "      <th>SibSp</th>\n",
       "      <th>Parch</th>\n",
       "      <th>Ticket</th>\n",
       "      <th>Fare</th>\n",
       "      <th>Cabin</th>\n",
       "      <th>Embarked</th>\n",
       "      <th>Ticket_number</th>\n",
       "      <th>Ticket_item</th>\n",
       "    </tr>\n",
       "  </thead>\n",
       "  <tbody>\n",
       "    <tr>\n",
       "      <th>0</th>\n",
       "      <td>1</td>\n",
       "      <td>0</td>\n",
       "      <td>3</td>\n",
       "      <td>Braund Mr Owen Harris</td>\n",
       "      <td>male</td>\n",
       "      <td>22.0</td>\n",
       "      <td>1</td>\n",
       "      <td>0</td>\n",
       "      <td>A/5 21171</td>\n",
       "      <td>7.2500</td>\n",
       "      <td>NaN</td>\n",
       "      <td>S</td>\n",
       "      <td>21171</td>\n",
       "      <td>A/5</td>\n",
       "    </tr>\n",
       "    <tr>\n",
       "      <th>1</th>\n",
       "      <td>2</td>\n",
       "      <td>1</td>\n",
       "      <td>1</td>\n",
       "      <td>Cumings Mrs John Bradley Florence Briggs Thayer</td>\n",
       "      <td>female</td>\n",
       "      <td>38.0</td>\n",
       "      <td>1</td>\n",
       "      <td>0</td>\n",
       "      <td>PC 17599</td>\n",
       "      <td>71.2833</td>\n",
       "      <td>C85</td>\n",
       "      <td>C</td>\n",
       "      <td>17599</td>\n",
       "      <td>PC</td>\n",
       "    </tr>\n",
       "    <tr>\n",
       "      <th>2</th>\n",
       "      <td>3</td>\n",
       "      <td>1</td>\n",
       "      <td>3</td>\n",
       "      <td>Heikkinen Miss Laina</td>\n",
       "      <td>female</td>\n",
       "      <td>26.0</td>\n",
       "      <td>0</td>\n",
       "      <td>0</td>\n",
       "      <td>STON/O2. 3101282</td>\n",
       "      <td>7.9250</td>\n",
       "      <td>NaN</td>\n",
       "      <td>S</td>\n",
       "      <td>3101282</td>\n",
       "      <td>STON/O2.</td>\n",
       "    </tr>\n",
       "    <tr>\n",
       "      <th>3</th>\n",
       "      <td>4</td>\n",
       "      <td>1</td>\n",
       "      <td>1</td>\n",
       "      <td>Futrelle Mrs Jacques Heath Lily May Peel</td>\n",
       "      <td>female</td>\n",
       "      <td>35.0</td>\n",
       "      <td>1</td>\n",
       "      <td>0</td>\n",
       "      <td>113803</td>\n",
       "      <td>53.1000</td>\n",
       "      <td>C123</td>\n",
       "      <td>S</td>\n",
       "      <td>113803</td>\n",
       "      <td>NONE</td>\n",
       "    </tr>\n",
       "    <tr>\n",
       "      <th>4</th>\n",
       "      <td>5</td>\n",
       "      <td>0</td>\n",
       "      <td>3</td>\n",
       "      <td>Allen Mr William Henry</td>\n",
       "      <td>male</td>\n",
       "      <td>35.0</td>\n",
       "      <td>0</td>\n",
       "      <td>0</td>\n",
       "      <td>373450</td>\n",
       "      <td>8.0500</td>\n",
       "      <td>NaN</td>\n",
       "      <td>S</td>\n",
       "      <td>373450</td>\n",
       "      <td>NONE</td>\n",
       "    </tr>\n",
       "  </tbody>\n",
       "</table>\n",
       "</div>"
      ],
      "text/plain": [
       "   PassengerId  Survived  Pclass  \\\n",
       "0            1         0       3   \n",
       "1            2         1       1   \n",
       "2            3         1       3   \n",
       "3            4         1       1   \n",
       "4            5         0       3   \n",
       "\n",
       "                                              Name     Sex   Age  SibSp  \\\n",
       "0                            Braund Mr Owen Harris    male  22.0      1   \n",
       "1  Cumings Mrs John Bradley Florence Briggs Thayer  female  38.0      1   \n",
       "2                             Heikkinen Miss Laina  female  26.0      0   \n",
       "3         Futrelle Mrs Jacques Heath Lily May Peel  female  35.0      1   \n",
       "4                           Allen Mr William Henry    male  35.0      0   \n",
       "\n",
       "   Parch            Ticket     Fare Cabin Embarked Ticket_number Ticket_item  \n",
       "0      0         A/5 21171   7.2500   NaN        S         21171         A/5  \n",
       "1      0          PC 17599  71.2833   C85        C         17599          PC  \n",
       "2      0  STON/O2. 3101282   7.9250   NaN        S       3101282    STON/O2.  \n",
       "3      0            113803  53.1000  C123        S        113803        NONE  \n",
       "4      0            373450   8.0500   NaN        S        373450        NONE  "
      ]
     },
     "execution_count": 3,
     "metadata": {},
     "output_type": "execute_result"
    }
   ],
   "source": [
    "def preprocess(df):\n",
    "    df = df.copy()\n",
    "    \n",
    "    def normalize_name(x):\n",
    "        return \" \".join([v.strip(\",()[].\\\"'\") for v in x.split(\" \")])\n",
    "    \n",
    "    def ticket_number(x):\n",
    "        return x.split(\" \")[-1]\n",
    "        \n",
    "    def ticket_item(x):\n",
    "        items = x.split(\" \")\n",
    "        if len(items) == 1:\n",
    "            return \"NONE\"\n",
    "        return \"_\".join(items[0:-1])\n",
    "    \n",
    "    df[\"Name\"] = df[\"Name\"].apply(normalize_name)\n",
    "    df[\"Ticket_number\"] = df[\"Ticket\"].apply(ticket_number)\n",
    "    df[\"Ticket_item\"] = df[\"Ticket\"].apply(ticket_item)                     \n",
    "    return df\n",
    "    \n",
    "preprocessed_train_df = preprocess(train_df)\n",
    "preprocessed_serving_df = preprocess(serving_df)\n",
    "\n",
    "preprocessed_train_df.head(5)"
   ]
  },
  {
   "cell_type": "markdown",
   "id": "1d30f3c5",
   "metadata": {
    "papermill": {
     "duration": 0.005033,
     "end_time": "2025-02-05T09:40:59.421065",
     "exception": false,
     "start_time": "2025-02-05T09:40:59.416032",
     "status": "completed"
    },
    "tags": []
   },
   "source": [
    "Let's keep the list of the input features of the model. Notably, we don't want to train our model on the \"PassengerId\" and \"Ticket\" features."
   ]
  },
  {
   "cell_type": "code",
   "execution_count": 4,
   "id": "b5949b81",
   "metadata": {
    "execution": {
     "iopub.execute_input": "2025-02-05T09:40:59.433216Z",
     "iopub.status.busy": "2025-02-05T09:40:59.432859Z",
     "iopub.status.idle": "2025-02-05T09:40:59.438927Z",
     "shell.execute_reply": "2025-02-05T09:40:59.437788Z"
    },
    "papermill": {
     "duration": 0.015225,
     "end_time": "2025-02-05T09:40:59.441526",
     "exception": false,
     "start_time": "2025-02-05T09:40:59.426301",
     "status": "completed"
    },
    "tags": []
   },
   "outputs": [
    {
     "name": "stdout",
     "output_type": "stream",
     "text": [
      "Input features: ['Pclass', 'Name', 'Sex', 'Age', 'SibSp', 'Parch', 'Fare', 'Cabin', 'Embarked', 'Ticket_number', 'Ticket_item']\n"
     ]
    }
   ],
   "source": [
    "input_features = list(preprocessed_train_df.columns)\n",
    "input_features.remove(\"Ticket\")\n",
    "input_features.remove(\"PassengerId\")\n",
    "input_features.remove(\"Survived\")\n",
    "#input_features.remove(\"Ticket_number\")\n",
    "\n",
    "print(f\"Input features: {input_features}\")"
   ]
  },
  {
   "cell_type": "markdown",
   "id": "5e4eadef",
   "metadata": {
    "papermill": {
     "duration": 0.005087,
     "end_time": "2025-02-05T09:40:59.452056",
     "exception": false,
     "start_time": "2025-02-05T09:40:59.446969",
     "status": "completed"
    },
    "tags": []
   },
   "source": [
    "# Convert Pandas dataset to TensorFlow Dataset"
   ]
  },
  {
   "cell_type": "code",
   "execution_count": 5,
   "id": "cd6cbbf0",
   "metadata": {
    "execution": {
     "iopub.execute_input": "2025-02-05T09:40:59.465220Z",
     "iopub.status.busy": "2025-02-05T09:40:59.464868Z",
     "iopub.status.idle": "2025-02-05T09:40:59.781810Z",
     "shell.execute_reply": "2025-02-05T09:40:59.780551Z"
    },
    "papermill": {
     "duration": 0.327188,
     "end_time": "2025-02-05T09:40:59.784523",
     "exception": false,
     "start_time": "2025-02-05T09:40:59.457335",
     "status": "completed"
    },
    "tags": []
   },
   "outputs": [],
   "source": [
    "def tokenize_names(features, labels=None):\n",
    "    \"\"\"Divite the names into tokens. TF-DF can consume text tokens natively.\"\"\"\n",
    "    features[\"Name\"] =  tf.strings.split(features[\"Name\"])\n",
    "    return features, labels\n",
    "\n",
    "train_ds = tfdf.keras.pd_dataframe_to_tf_dataset(preprocessed_train_df,label=\"Survived\").map(tokenize_names)\n",
    "serving_ds = tfdf.keras.pd_dataframe_to_tf_dataset(preprocessed_serving_df).map(tokenize_names)"
   ]
  },
  {
   "cell_type": "markdown",
   "id": "84378be0",
   "metadata": {
    "papermill": {
     "duration": 0.005073,
     "end_time": "2025-02-05T09:40:59.795096",
     "exception": false,
     "start_time": "2025-02-05T09:40:59.790023",
     "status": "completed"
    },
    "tags": []
   },
   "source": [
    "# Train model with default parameters\n",
    "\n",
    "### Train model\n",
    "\n",
    "First, we are training a GradientBoostedTreesModel model with the default parameters."
   ]
  },
  {
   "cell_type": "code",
   "execution_count": 6,
   "id": "12ef5a7d",
   "metadata": {
    "execution": {
     "iopub.execute_input": "2025-02-05T09:40:59.807361Z",
     "iopub.status.busy": "2025-02-05T09:40:59.806888Z",
     "iopub.status.idle": "2025-02-05T09:41:08.146523Z",
     "shell.execute_reply": "2025-02-05T09:41:08.145199Z"
    },
    "papermill": {
     "duration": 8.348653,
     "end_time": "2025-02-05T09:41:08.148964",
     "exception": false,
     "start_time": "2025-02-05T09:40:59.800311",
     "status": "completed"
    },
    "tags": []
   },
   "outputs": [
    {
     "name": "stderr",
     "output_type": "stream",
     "text": [
      "[INFO 2025-02-05T09:41:05.747255494+00:00 kernel.cc:1214] Loading model from path /tmp/tmpkjhrao65/model/ with prefix 14e9a61947ef4edd\n",
      "[INFO 2025-02-05T09:41:05.758990647+00:00 abstract_model.cc:1311] Engine \"GradientBoostedTreesQuickScorerExtended\" built\n",
      "[INFO 2025-02-05T09:41:05.759105872+00:00 kernel.cc:1046] Use fast generic engine\n"
     ]
    },
    {
     "name": "stdout",
     "output_type": "stream",
     "text": [
      "WARNING: AutoGraph could not transform <function simple_ml_inference_op_with_handle at 0x7ca12528f4d0> and will run it as-is.\n",
      "Please report this to the TensorFlow team. When filing the bug, set the verbosity to 10 (on Linux, `export AUTOGRAPH_VERBOSITY=10`) and attach the full output.\n",
      "Cause: could not get source code\n",
      "To silence this warning, decorate the function with @tf.autograph.experimental.do_not_convert\n",
      "Accuracy: 0.8260869383811951 Loss:0.8608942627906799\n"
     ]
    }
   ],
   "source": [
    "model = tfdf.keras.GradientBoostedTreesModel(\n",
    "    verbose=0, # Very few logs\n",
    "    features=[tfdf.keras.FeatureUsage(name=n) for n in input_features],\n",
    "    exclude_non_specified_features=True, # Only use the features in \"features\"\n",
    "    random_seed=1234,\n",
    ")\n",
    "model.fit(train_ds)\n",
    "\n",
    "self_evaluation = model.make_inspector().evaluation()\n",
    "print(f\"Accuracy: {self_evaluation.accuracy} Loss:{self_evaluation.loss}\")"
   ]
  },
  {
   "cell_type": "markdown",
   "id": "add65b63",
   "metadata": {
    "papermill": {
     "duration": 0.005416,
     "end_time": "2025-02-05T09:41:08.160161",
     "exception": false,
     "start_time": "2025-02-05T09:41:08.154745",
     "status": "completed"
    },
    "tags": []
   },
   "source": [
    "# Train model with improved default parameters\n",
    "\n",
    "Now you'll use some specific parameters when creating the GBT model"
   ]
  },
  {
   "cell_type": "code",
   "execution_count": 7,
   "id": "4c29b9ea",
   "metadata": {
    "execution": {
     "iopub.execute_input": "2025-02-05T09:41:08.172824Z",
     "iopub.status.busy": "2025-02-05T09:41:08.172451Z",
     "iopub.status.idle": "2025-02-05T09:41:09.380043Z",
     "shell.execute_reply": "2025-02-05T09:41:09.378861Z"
    },
    "papermill": {
     "duration": 1.21716,
     "end_time": "2025-02-05T09:41:09.382730",
     "exception": false,
     "start_time": "2025-02-05T09:41:08.165570",
     "status": "completed"
    },
    "tags": []
   },
   "outputs": [
    {
     "name": "stderr",
     "output_type": "stream",
     "text": [
      "[INFO 2025-02-05T09:41:09.070196864+00:00 kernel.cc:1214] Loading model from path /tmp/tmpamhwvohr/model/ with prefix a234f4078ffe449c\n",
      "[INFO 2025-02-05T09:41:09.081325619+00:00 decision_forest.cc:661] Model loaded with 33 root(s), 1823 node(s), and 10 input feature(s).\n",
      "[INFO 2025-02-05T09:41:09.081399487+00:00 kernel.cc:1046] Use fast generic engine\n"
     ]
    },
    {
     "name": "stdout",
     "output_type": "stream",
     "text": [
      "Accuracy: 0.760869562625885 Loss:1.0154211521148682\n"
     ]
    }
   ],
   "source": [
    "model = tfdf.keras.GradientBoostedTreesModel(\n",
    "    verbose=0, # Very few logs\n",
    "    features=[tfdf.keras.FeatureUsage(name=n) for n in input_features],\n",
    "    exclude_non_specified_features=True, # Only use the features in \"features\"\n",
    "    \n",
    "    #num_trees=2000,\n",
    "    \n",
    "    # Only for GBT.\n",
    "    # A bit slower, but great to understand the model.\n",
    "    # compute_permutation_variable_importance=True,\n",
    "    \n",
    "    # Change the default hyper-parameters\n",
    "    # hyperparameter_template=\"benchmark_rank1@v1\",\n",
    "    \n",
    "    #num_trees=1000,\n",
    "    #tuner=tuner\n",
    "    \n",
    "    min_examples=1,\n",
    "    categorical_algorithm=\"RANDOM\",\n",
    "    #max_depth=4,\n",
    "    shrinkage=0.05,\n",
    "    #num_candidate_attributes_ratio=0.2,\n",
    "    split_axis=\"SPARSE_OBLIQUE\",\n",
    "    sparse_oblique_normalization=\"MIN_MAX\",\n",
    "    sparse_oblique_num_projections_exponent=2.0,\n",
    "    num_trees=2000,\n",
    "    #validation_ratio=0.0,\n",
    "    random_seed=1234,\n",
    "    \n",
    ")\n",
    "model.fit(train_ds)\n",
    "\n",
    "self_evaluation = model.make_inspector().evaluation()\n",
    "print(f\"Accuracy: {self_evaluation.accuracy} Loss:{self_evaluation.loss}\")"
   ]
  },
  {
   "cell_type": "markdown",
   "id": "c3ca2f90",
   "metadata": {
    "papermill": {
     "duration": 0.005456,
     "end_time": "2025-02-05T09:41:09.394218",
     "exception": false,
     "start_time": "2025-02-05T09:41:09.388762",
     "status": "completed"
    },
    "tags": []
   },
   "source": [
    "Let's look at the model and you can also notice the information about variable importance that the model figured out"
   ]
  },
  {
   "cell_type": "code",
   "execution_count": 8,
   "id": "0fd60fd3",
   "metadata": {
    "execution": {
     "iopub.execute_input": "2025-02-05T09:41:09.407936Z",
     "iopub.status.busy": "2025-02-05T09:41:09.407528Z",
     "iopub.status.idle": "2025-02-05T09:41:09.424955Z",
     "shell.execute_reply": "2025-02-05T09:41:09.423607Z"
    },
    "papermill": {
     "duration": 0.029006,
     "end_time": "2025-02-05T09:41:09.429067",
     "exception": false,
     "start_time": "2025-02-05T09:41:09.400061",
     "status": "completed"
    },
    "tags": []
   },
   "outputs": [
    {
     "name": "stdout",
     "output_type": "stream",
     "text": [
      "Model: \"gradient_boosted_trees_model_1\"\n",
      "_________________________________________________________________\n",
      " Layer (type)                Output Shape              Param #   \n",
      "=================================================================\n",
      "=================================================================\n",
      "Total params: 1\n",
      "Trainable params: 0\n",
      "Non-trainable params: 1\n",
      "_________________________________________________________________\n",
      "Type: \"GRADIENT_BOOSTED_TREES\"\n",
      "Task: CLASSIFICATION\n",
      "Label: \"__LABEL\"\n",
      "\n",
      "Input Features (11):\n",
      "\tAge\n",
      "\tCabin\n",
      "\tEmbarked\n",
      "\tFare\n",
      "\tName\n",
      "\tParch\n",
      "\tPclass\n",
      "\tSex\n",
      "\tSibSp\n",
      "\tTicket_item\n",
      "\tTicket_number\n",
      "\n",
      "No weights\n",
      "\n",
      "Variable Importance: INV_MEAN_MIN_DEPTH:\n",
      "    1.           \"Sex\"  0.576632 ################\n",
      "    2.           \"Age\"  0.364297 #######\n",
      "    3.          \"Fare\"  0.278839 ####\n",
      "    4.          \"Name\"  0.208548 #\n",
      "    5. \"Ticket_number\"  0.180792 \n",
      "    6.        \"Pclass\"  0.176962 \n",
      "    7.         \"Parch\"  0.176659 \n",
      "    8.   \"Ticket_item\"  0.175540 \n",
      "    9.      \"Embarked\"  0.172339 \n",
      "   10.         \"SibSp\"  0.170442 \n",
      "\n",
      "Variable Importance: NUM_AS_ROOT:\n",
      "    1.  \"Sex\" 28.000000 ################\n",
      "    2. \"Name\"  5.000000 \n",
      "\n",
      "Variable Importance: NUM_NODES:\n",
      "    1.           \"Age\" 406.000000 ################\n",
      "    2.          \"Fare\" 290.000000 ###########\n",
      "    3.          \"Name\" 44.000000 #\n",
      "    4.   \"Ticket_item\" 42.000000 #\n",
      "    5.           \"Sex\" 31.000000 #\n",
      "    6.         \"Parch\" 28.000000 \n",
      "    7. \"Ticket_number\" 22.000000 \n",
      "    8.        \"Pclass\" 15.000000 \n",
      "    9.      \"Embarked\" 12.000000 \n",
      "   10.         \"SibSp\"  5.000000 \n",
      "\n",
      "Variable Importance: SUM_SCORE:\n",
      "    1.           \"Sex\" 460.497828 ################\n",
      "    2.           \"Age\" 355.963333 ############\n",
      "    3.          \"Fare\" 292.870316 ##########\n",
      "    4.          \"Name\" 108.548952 ###\n",
      "    5.        \"Pclass\" 28.132254 \n",
      "    6.   \"Ticket_item\" 23.818676 \n",
      "    7. \"Ticket_number\" 23.772288 \n",
      "    8.         \"Parch\" 19.303155 \n",
      "    9.      \"Embarked\"  8.155722 \n",
      "   10.         \"SibSp\"  0.015225 \n",
      "\n",
      "\n",
      "\n",
      "Loss: BINOMIAL_LOG_LIKELIHOOD\n",
      "Validation loss value: 1.01542\n",
      "Number of trees per iteration: 1\n",
      "Node format: NOT_SET\n",
      "Number of trees: 33\n",
      "Total number of nodes: 1823\n",
      "\n",
      "Number of nodes by tree:\n",
      "Count: 33 Average: 55.2424 StdDev: 5.13473\n",
      "Min: 39 Max: 63 Ignored: 0\n",
      "----------------------------------------------\n",
      "[ 39, 40) 1   3.03%   3.03% #\n",
      "[ 40, 41) 0   0.00%   3.03%\n",
      "[ 41, 42) 0   0.00%   3.03%\n",
      "[ 42, 44) 0   0.00%   3.03%\n",
      "[ 44, 45) 0   0.00%   3.03%\n",
      "[ 45, 46) 0   0.00%   3.03%\n",
      "[ 46, 47) 0   0.00%   3.03%\n",
      "[ 47, 49) 2   6.06%   9.09% ###\n",
      "[ 49, 50) 2   6.06%  15.15% ###\n",
      "[ 50, 51) 0   0.00%  15.15%\n",
      "[ 51, 52) 2   6.06%  21.21% ###\n",
      "[ 52, 54) 5  15.15%  36.36% #######\n",
      "[ 54, 55) 0   0.00%  36.36%\n",
      "[ 55, 56) 5  15.15%  51.52% #######\n",
      "[ 56, 57) 0   0.00%  51.52%\n",
      "[ 57, 59) 4  12.12%  63.64% ######\n",
      "[ 59, 60) 7  21.21%  84.85% ##########\n",
      "[ 60, 61) 0   0.00%  84.85%\n",
      "[ 61, 62) 3   9.09%  93.94% ####\n",
      "[ 62, 63] 2   6.06% 100.00% ###\n",
      "\n",
      "Depth by leafs:\n",
      "Count: 928 Average: 4.8847 StdDev: 0.380934\n",
      "Min: 2 Max: 5 Ignored: 0\n",
      "----------------------------------------------\n",
      "[ 2, 3)   1   0.11%   0.11%\n",
      "[ 3, 4)  17   1.83%   1.94%\n",
      "[ 4, 5)  70   7.54%   9.48% #\n",
      "[ 5, 5] 840  90.52% 100.00% ##########\n",
      "\n",
      "Number of training obs by leaf:\n",
      "Count: 928 Average: 28.4127 StdDev: 70.8313\n",
      "Min: 1 Max: 438 Ignored: 0\n",
      "----------------------------------------------\n",
      "[   1,  22) 731  78.77%  78.77% ##########\n",
      "[  22,  44)  74   7.97%  86.75% #\n",
      "[  44,  66)  37   3.99%  90.73% #\n",
      "[  66,  88)   3   0.32%  91.06%\n",
      "[  88, 110)   9   0.97%  92.03%\n",
      "[ 110, 132)   8   0.86%  92.89%\n",
      "[ 132, 154)  18   1.94%  94.83%\n",
      "[ 154, 176)   8   0.86%  95.69%\n",
      "[ 176, 198)   6   0.65%  96.34%\n",
      "[ 198, 220)   2   0.22%  96.55%\n",
      "[ 220, 241)   2   0.22%  96.77%\n",
      "[ 241, 263)   1   0.11%  96.88%\n",
      "[ 263, 285)   2   0.22%  97.09%\n",
      "[ 285, 307)   5   0.54%  97.63%\n",
      "[ 307, 329)   1   0.11%  97.74%\n",
      "[ 329, 351)   2   0.22%  97.95%\n",
      "[ 351, 373)   6   0.65%  98.60%\n",
      "[ 373, 395)   6   0.65%  99.25%\n",
      "[ 395, 417)   2   0.22%  99.46%\n",
      "[ 417, 438]   5   0.54% 100.00%\n",
      "\n",
      "Attribute in nodes:\n",
      "\t406 : Age [NUMERICAL]\n",
      "\t290 : Fare [NUMERICAL]\n",
      "\t44 : Name [CATEGORICAL_SET]\n",
      "\t42 : Ticket_item [CATEGORICAL]\n",
      "\t31 : Sex [CATEGORICAL]\n",
      "\t28 : Parch [NUMERICAL]\n",
      "\t22 : Ticket_number [CATEGORICAL]\n",
      "\t15 : Pclass [NUMERICAL]\n",
      "\t12 : Embarked [CATEGORICAL]\n",
      "\t5 : SibSp [NUMERICAL]\n",
      "\n",
      "Attribute in nodes with depth <= 0:\n",
      "\t28 : Sex [CATEGORICAL]\n",
      "\t5 : Name [CATEGORICAL_SET]\n",
      "\n",
      "Attribute in nodes with depth <= 1:\n",
      "\t39 : Age [NUMERICAL]\n",
      "\t28 : Sex [CATEGORICAL]\n",
      "\t21 : Fare [NUMERICAL]\n",
      "\t5 : Name [CATEGORICAL_SET]\n",
      "\t3 : Pclass [NUMERICAL]\n",
      "\t2 : Ticket_number [CATEGORICAL]\n",
      "\t1 : Parch [NUMERICAL]\n",
      "\n",
      "Attribute in nodes with depth <= 2:\n",
      "\t102 : Age [NUMERICAL]\n",
      "\t65 : Fare [NUMERICAL]\n",
      "\t28 : Sex [CATEGORICAL]\n",
      "\t15 : Name [CATEGORICAL_SET]\n",
      "\t7 : Ticket_number [CATEGORICAL]\n",
      "\t5 : Pclass [NUMERICAL]\n",
      "\t4 : Parch [NUMERICAL]\n",
      "\t2 : Ticket_item [CATEGORICAL]\n",
      "\t2 : Embarked [CATEGORICAL]\n",
      "\n",
      "Attribute in nodes with depth <= 3:\n",
      "\t206 : Age [NUMERICAL]\n",
      "\t156 : Fare [NUMERICAL]\n",
      "\t33 : Name [CATEGORICAL_SET]\n",
      "\t29 : Sex [CATEGORICAL]\n",
      "\t19 : Ticket_number [CATEGORICAL]\n",
      "\t11 : Ticket_item [CATEGORICAL]\n",
      "\t11 : Parch [NUMERICAL]\n",
      "\t7 : Pclass [NUMERICAL]\n",
      "\t3 : Embarked [CATEGORICAL]\n",
      "\n",
      "Attribute in nodes with depth <= 5:\n",
      "\t406 : Age [NUMERICAL]\n",
      "\t290 : Fare [NUMERICAL]\n",
      "\t44 : Name [CATEGORICAL_SET]\n",
      "\t42 : Ticket_item [CATEGORICAL]\n",
      "\t31 : Sex [CATEGORICAL]\n",
      "\t28 : Parch [NUMERICAL]\n",
      "\t22 : Ticket_number [CATEGORICAL]\n",
      "\t15 : Pclass [NUMERICAL]\n",
      "\t12 : Embarked [CATEGORICAL]\n",
      "\t5 : SibSp [NUMERICAL]\n",
      "\n",
      "Condition type in nodes:\n",
      "\t744 : ObliqueCondition\n",
      "\t122 : ContainsBitmapCondition\n",
      "\t29 : ContainsCondition\n",
      "Condition type in nodes with depth <= 0:\n",
      "\t31 : ContainsBitmapCondition\n",
      "\t2 : ContainsCondition\n",
      "Condition type in nodes with depth <= 1:\n",
      "\t64 : ObliqueCondition\n",
      "\t33 : ContainsBitmapCondition\n",
      "\t2 : ContainsCondition\n",
      "Condition type in nodes with depth <= 2:\n",
      "\t176 : ObliqueCondition\n",
      "\t51 : ContainsBitmapCondition\n",
      "\t3 : ContainsCondition\n",
      "Condition type in nodes with depth <= 3:\n",
      "\t380 : ObliqueCondition\n",
      "\t77 : ContainsBitmapCondition\n",
      "\t18 : ContainsCondition\n",
      "Condition type in nodes with depth <= 5:\n",
      "\t744 : ObliqueCondition\n",
      "\t122 : ContainsBitmapCondition\n",
      "\t29 : ContainsCondition\n",
      "\n",
      "Training logs:\n",
      "Number of iteration to final model: 33\n",
      "\tIter:1 train-loss:1.266350 valid-loss:1.360049  train-accuracy:0.624531 valid-accuracy:0.543478\n",
      "\tIter:2 train-loss:1.213702 valid-loss:1.321897  train-accuracy:0.624531 valid-accuracy:0.543478\n",
      "\tIter:3 train-loss:1.165783 valid-loss:1.286817  train-accuracy:0.624531 valid-accuracy:0.543478\n",
      "\tIter:4 train-loss:1.122469 valid-loss:1.256133  train-accuracy:0.624531 valid-accuracy:0.543478\n",
      "\tIter:5 train-loss:1.081461 valid-loss:1.229342  train-accuracy:0.808511 valid-accuracy:0.771739\n",
      "\tIter:6 train-loss:1.045305 valid-loss:1.204601  train-accuracy:0.826033 valid-accuracy:0.728261\n",
      "\tIter:16 train-loss:0.794952 valid-loss:1.058568  train-accuracy:0.914894 valid-accuracy:0.771739\n",
      "\tIter:26 train-loss:0.646146 valid-loss:1.021539  train-accuracy:0.926158 valid-accuracy:0.793478\n",
      "\tIter:36 train-loss:0.558627 valid-loss:1.023663  train-accuracy:0.929912 valid-accuracy:0.771739\n",
      "\tIter:46 train-loss:0.493899 valid-loss:1.025164  train-accuracy:0.931164 valid-accuracy:0.760870\n",
      "\tIter:56 train-loss:0.451528 valid-loss:1.032880  train-accuracy:0.938673 valid-accuracy:0.771739\n",
      "\n"
     ]
    }
   ],
   "source": [
    "model.summary()"
   ]
  },
  {
   "cell_type": "markdown",
   "id": "f27ffdac",
   "metadata": {
    "papermill": {
     "duration": 0.005996,
     "end_time": "2025-02-05T09:41:09.441479",
     "exception": false,
     "start_time": "2025-02-05T09:41:09.435483",
     "status": "completed"
    },
    "tags": []
   },
   "source": [
    "# Make predictions"
   ]
  },
  {
   "cell_type": "code",
   "execution_count": 9,
   "id": "b89e98a2",
   "metadata": {
    "execution": {
     "iopub.execute_input": "2025-02-05T09:41:09.455638Z",
     "iopub.status.busy": "2025-02-05T09:41:09.455241Z",
     "iopub.status.idle": "2025-02-05T09:41:10.782004Z",
     "shell.execute_reply": "2025-02-05T09:41:10.780465Z"
    },
    "papermill": {
     "duration": 1.337092,
     "end_time": "2025-02-05T09:41:10.784723",
     "exception": false,
     "start_time": "2025-02-05T09:41:09.447631",
     "status": "completed"
    },
    "tags": []
   },
   "outputs": [
    {
     "name": "stdout",
     "output_type": "stream",
     "text": [
      "Submission exported to /kaggle/working/submission.csv\n",
      "PassengerId,Survived\r\n",
      "892,0\r\n",
      "893,0\r\n",
      "894,0\r\n",
      "895,0\r\n",
      "896,0\r\n",
      "897,0\r\n",
      "898,0\r\n",
      "899,0\r\n",
      "900,1\r\n"
     ]
    }
   ],
   "source": [
    "def prediction_to_kaggle_format(model, threshold=0.5):\n",
    "    proba_survive = model.predict(serving_ds, verbose=0)[:,0]\n",
    "    return pd.DataFrame({\n",
    "        \"PassengerId\": serving_df[\"PassengerId\"],\n",
    "        \"Survived\": (proba_survive >= threshold).astype(int)\n",
    "    })\n",
    "\n",
    "def make_submission(kaggle_predictions):\n",
    "    path=\"/kaggle/working/submission.csv\"\n",
    "    kaggle_predictions.to_csv(path, index=False)\n",
    "    print(f\"Submission exported to {path}\")\n",
    "    \n",
    "kaggle_predictions = prediction_to_kaggle_format(model)\n",
    "make_submission(kaggle_predictions)\n",
    "!head /kaggle/working/submission.csv"
   ]
  },
  {
   "cell_type": "markdown",
   "id": "1fd6da8d",
   "metadata": {
    "papermill": {
     "duration": 0.006196,
     "end_time": "2025-02-05T09:41:10.797387",
     "exception": false,
     "start_time": "2025-02-05T09:41:10.791191",
     "status": "completed"
    },
    "tags": []
   },
   "source": [
    "# Training a model with hyperparameter tunning\n",
    "\n",
    "Hyper-parameter tuning is enabled by specifying the tuner constructor argument of the model. The tuner object contains all the configuration of the tuner (search space, optimizer, trial and objective).\n"
   ]
  },
  {
   "cell_type": "code",
   "execution_count": 10,
   "id": "fd03dc42",
   "metadata": {
    "execution": {
     "iopub.execute_input": "2025-02-05T09:41:10.813018Z",
     "iopub.status.busy": "2025-02-05T09:41:10.811858Z",
     "iopub.status.idle": "2025-02-05T09:43:11.744707Z",
     "shell.execute_reply": "2025-02-05T09:43:11.743341Z"
    },
    "papermill": {
     "duration": 120.943508,
     "end_time": "2025-02-05T09:43:11.747084",
     "exception": false,
     "start_time": "2025-02-05T09:41:10.803576",
     "status": "completed"
    },
    "tags": []
   },
   "outputs": [
    {
     "name": "stdout",
     "output_type": "stream",
     "text": [
      "Use /tmp/tmptoc00a2p as temporary training directory\n"
     ]
    },
    {
     "name": "stderr",
     "output_type": "stream",
     "text": [
      "[INFO 2025-02-05T09:43:11.371013739+00:00 kernel.cc:1214] Loading model from path /tmp/tmptoc00a2p/model/ with prefix 48117e9477af4844\n",
      "[INFO 2025-02-05T09:43:11.386870211+00:00 decision_forest.cc:661] Model loaded with 19 root(s), 589 node(s), and 12 input feature(s).\n",
      "[INFO 2025-02-05T09:43:11.386916923+00:00 abstract_model.cc:1311] Engine \"GradientBoostedTreesGeneric\" built\n",
      "[INFO 2025-02-05T09:43:11.386943886+00:00 kernel.cc:1046] Use fast generic engine\n"
     ]
    },
    {
     "name": "stdout",
     "output_type": "stream",
     "text": [
      "Accuracy: 0.9178082346916199 Loss:0.6503586769104004\n"
     ]
    }
   ],
   "source": [
    "tuner = tfdf.tuner.RandomSearch(num_trials=1000)\n",
    "tuner.choice(\"min_examples\", [2, 5, 7, 10])\n",
    "tuner.choice(\"categorical_algorithm\", [\"CART\", \"RANDOM\"])\n",
    "\n",
    "local_search_space = tuner.choice(\"growing_strategy\", [\"LOCAL\"])\n",
    "local_search_space.choice(\"max_depth\", [3, 4, 5, 6, 8])\n",
    "\n",
    "global_search_space = tuner.choice(\"growing_strategy\", [\"BEST_FIRST_GLOBAL\"], merge=True)\n",
    "global_search_space.choice(\"max_num_nodes\", [16, 32, 64, 128, 256])\n",
    "\n",
    "#tuner.choice(\"use_hessian_gain\", [True, False])\n",
    "tuner.choice(\"shrinkage\", [0.02, 0.05, 0.10, 0.15])\n",
    "tuner.choice(\"num_candidate_attributes_ratio\", [0.2, 0.5, 0.9, 1.0])\n",
    "\n",
    "\n",
    "tuner.choice(\"split_axis\", [\"AXIS_ALIGNED\"])\n",
    "oblique_space = tuner.choice(\"split_axis\", [\"SPARSE_OBLIQUE\"], merge=True)\n",
    "oblique_space.choice(\"sparse_oblique_normalization\",\n",
    "                     [\"NONE\", \"STANDARD_DEVIATION\", \"MIN_MAX\"])\n",
    "oblique_space.choice(\"sparse_oblique_weights\", [\"BINARY\", \"CONTINUOUS\"])\n",
    "oblique_space.choice(\"sparse_oblique_num_projections_exponent\", [1.0, 1.5])\n",
    "\n",
    "# Tune the model. Notice the `tuner=tuner`.\n",
    "tuned_model = tfdf.keras.GradientBoostedTreesModel(tuner=tuner)\n",
    "tuned_model.fit(train_ds, verbose=0)\n",
    "\n",
    "tuned_self_evaluation = tuned_model.make_inspector().evaluation()\n",
    "print(f\"Accuracy: {tuned_self_evaluation.accuracy} Loss:{tuned_self_evaluation.loss}\")"
   ]
  },
  {
   "cell_type": "markdown",
   "id": "a9ebcf9f",
   "metadata": {
    "papermill": {
     "duration": 0.006535,
     "end_time": "2025-02-05T09:43:11.760400",
     "exception": false,
     "start_time": "2025-02-05T09:43:11.753865",
     "status": "completed"
    },
    "tags": []
   },
   "source": [
    "In the last line in the cell above, you can see the accuracy is higher than previously with default parameters and parameters set by hand.\n",
    "\n",
    "This is the main idea behing hyperparameter tuning.\n",
    "\n",
    "For more information you can follow this tutorial: [Automated hyper-parameter tuning](https://www.tensorflow.org/decision_forests/tutorials/automatic_tuning_colab)"
   ]
  },
  {
   "cell_type": "markdown",
   "id": "ac928931",
   "metadata": {
    "papermill": {
     "duration": 0.006137,
     "end_time": "2025-02-05T09:43:11.772950",
     "exception": false,
     "start_time": "2025-02-05T09:43:11.766813",
     "status": "completed"
    },
    "tags": []
   },
   "source": [
    "# Making an ensemble\n",
    "\n",
    "Here you'll create 100 models with different seeds and combine their results\n",
    "\n",
    "This approach removes a little bit the random aspects related to creating ML models\n",
    "\n",
    "In the GBT creation is used the `honest` parameter. It will use different training examples to infer the structure and the leaf values. This regularization technique trades examples for bias estimates."
   ]
  },
  {
   "cell_type": "code",
   "execution_count": 11,
   "id": "5c2e5fef",
   "metadata": {
    "execution": {
     "iopub.execute_input": "2025-02-05T09:43:11.788457Z",
     "iopub.status.busy": "2025-02-05T09:43:11.787385Z",
     "iopub.status.idle": "2025-02-05T09:45:08.345525Z",
     "shell.execute_reply": "2025-02-05T09:45:08.344086Z"
    },
    "papermill": {
     "duration": 116.568668,
     "end_time": "2025-02-05T09:45:08.348129",
     "exception": false,
     "start_time": "2025-02-05T09:43:11.779461",
     "status": "completed"
    },
    "tags": []
   },
   "outputs": [
    {
     "name": "stdout",
     "output_type": "stream",
     "text": [
      "i:0\n"
     ]
    },
    {
     "name": "stderr",
     "output_type": "stream",
     "text": [
      "[INFO 2025-02-05T09:43:12.320670225+00:00 kernel.cc:1214] Loading model from path /tmp/tmps5phdm3f/model/ with prefix 9f877e40a6cf47f6\n",
      "[INFO 2025-02-05T09:43:12.325636659+00:00 kernel.cc:1046] Use fast generic engine\n"
     ]
    },
    {
     "name": "stdout",
     "output_type": "stream",
     "text": [
      "i:1\n"
     ]
    },
    {
     "name": "stderr",
     "output_type": "stream",
     "text": [
      "[INFO 2025-02-05T09:43:13.749801497+00:00 kernel.cc:1214] Loading model from path /tmp/tmpprs_0wrl/model/ with prefix 43cff670f6e14cff\n",
      "[INFO 2025-02-05T09:43:13.776552916+00:00 kernel.cc:1046] Use fast generic engine\n"
     ]
    },
    {
     "name": "stdout",
     "output_type": "stream",
     "text": [
      "i:2\n"
     ]
    },
    {
     "name": "stderr",
     "output_type": "stream",
     "text": [
      "[INFO 2025-02-05T09:43:14.73103253+00:00 kernel.cc:1214] Loading model from path /tmp/tmpmt563brv/model/ with prefix fcba4baa07f041f2\n",
      "[INFO 2025-02-05T09:43:14.736100206+00:00 kernel.cc:1046] Use fast generic engine\n"
     ]
    },
    {
     "name": "stdout",
     "output_type": "stream",
     "text": [
      "i:3\n"
     ]
    },
    {
     "name": "stderr",
     "output_type": "stream",
     "text": [
      "[INFO 2025-02-05T09:43:16.313411896+00:00 kernel.cc:1214] Loading model from path /tmp/tmphf7675lr/model/ with prefix 7c24049700f2434c\n",
      "[INFO 2025-02-05T09:43:16.345414794+00:00 kernel.cc:1046] Use fast generic engine\n"
     ]
    },
    {
     "name": "stdout",
     "output_type": "stream",
     "text": [
      "i:4\n"
     ]
    },
    {
     "name": "stderr",
     "output_type": "stream",
     "text": [
      "[INFO 2025-02-05T09:43:17.308441924+00:00 kernel.cc:1214] Loading model from path /tmp/tmpx29nx2k3/model/ with prefix 8ebf0994a5ac4401\n",
      "[INFO 2025-02-05T09:43:17.314863474+00:00 kernel.cc:1046] Use fast generic engine\n"
     ]
    },
    {
     "name": "stdout",
     "output_type": "stream",
     "text": [
      "i:5\n"
     ]
    },
    {
     "name": "stderr",
     "output_type": "stream",
     "text": [
      "[INFO 2025-02-05T09:43:18.215882627+00:00 kernel.cc:1214] Loading model from path /tmp/tmpvk6y22nq/model/ with prefix 0a691b829b7f402d\n",
      "[INFO 2025-02-05T09:43:18.21934313+00:00 kernel.cc:1046] Use fast generic engine\n"
     ]
    },
    {
     "name": "stdout",
     "output_type": "stream",
     "text": [
      "i:6\n"
     ]
    },
    {
     "name": "stderr",
     "output_type": "stream",
     "text": [
      "[INFO 2025-02-05T09:43:19.270057887+00:00 kernel.cc:1214] Loading model from path /tmp/tmp1x86twza/model/ with prefix ae2e73634ff54f5b\n",
      "[INFO 2025-02-05T09:43:19.278521226+00:00 kernel.cc:1046] Use fast generic engine\n"
     ]
    },
    {
     "name": "stdout",
     "output_type": "stream",
     "text": [
      "i:7\n"
     ]
    },
    {
     "name": "stderr",
     "output_type": "stream",
     "text": [
      "[INFO 2025-02-05T09:43:20.675077961+00:00 kernel.cc:1214] Loading model from path /tmp/tmpcy3r027i/model/ with prefix 1756fc8fb6084986\n",
      "[INFO 2025-02-05T09:43:20.697353223+00:00 kernel.cc:1046] Use fast generic engine\n"
     ]
    },
    {
     "name": "stdout",
     "output_type": "stream",
     "text": [
      "i:8\n"
     ]
    },
    {
     "name": "stderr",
     "output_type": "stream",
     "text": [
      "[INFO 2025-02-05T09:43:21.799078374+00:00 kernel.cc:1214] Loading model from path /tmp/tmprve_ap2v/model/ with prefix 0f3b872f77014e3c\n",
      "[INFO 2025-02-05T09:43:21.810147341+00:00 abstract_model.cc:1311] Engine \"GradientBoostedTreesQuickScorerExtended\" built\n",
      "[INFO 2025-02-05T09:43:21.810192555+00:00 kernel.cc:1046] Use fast generic engine\n"
     ]
    },
    {
     "name": "stdout",
     "output_type": "stream",
     "text": [
      "i:9\n"
     ]
    },
    {
     "name": "stderr",
     "output_type": "stream",
     "text": [
      "[INFO 2025-02-05T09:43:23.489706199+00:00 kernel.cc:1214] Loading model from path /tmp/tmp73g5dz65/model/ with prefix ccbdb7449ce14f60\n",
      "[INFO 2025-02-05T09:43:23.507184573+00:00 kernel.cc:1046] Use fast generic engine\n"
     ]
    },
    {
     "name": "stdout",
     "output_type": "stream",
     "text": [
      "i:10\n"
     ]
    },
    {
     "name": "stderr",
     "output_type": "stream",
     "text": [
      "[INFO 2025-02-05T09:43:24.504180944+00:00 kernel.cc:1214] Loading model from path /tmp/tmpvk7yqpha/model/ with prefix 6c9c9ea684c44aab\n",
      "[INFO 2025-02-05T09:43:24.510720323+00:00 kernel.cc:1046] Use fast generic engine\n"
     ]
    },
    {
     "name": "stdout",
     "output_type": "stream",
     "text": [
      "i:11\n"
     ]
    },
    {
     "name": "stderr",
     "output_type": "stream",
     "text": [
      "[INFO 2025-02-05T09:43:25.745379206+00:00 kernel.cc:1214] Loading model from path /tmp/tmpvfyawl15/model/ with prefix f4896c0437c346a2\n",
      "[INFO 2025-02-05T09:43:25.761949874+00:00 kernel.cc:1046] Use fast generic engine\n"
     ]
    },
    {
     "name": "stdout",
     "output_type": "stream",
     "text": [
      "i:12\n"
     ]
    },
    {
     "name": "stderr",
     "output_type": "stream",
     "text": [
      "[INFO 2025-02-05T09:43:26.73271572+00:00 kernel.cc:1214] Loading model from path /tmp/tmpwd47vxzr/model/ with prefix ad04f7b76f2b4b6d\n",
      "[INFO 2025-02-05T09:43:26.739421587+00:00 kernel.cc:1046] Use fast generic engine\n"
     ]
    },
    {
     "name": "stdout",
     "output_type": "stream",
     "text": [
      "i:13\n"
     ]
    },
    {
     "name": "stderr",
     "output_type": "stream",
     "text": [
      "[INFO 2025-02-05T09:43:27.850848397+00:00 kernel.cc:1214] Loading model from path /tmp/tmpxcq8nl84/model/ with prefix 6b6112ca1c8843ad\n",
      "[INFO 2025-02-05T09:43:27.863140056+00:00 kernel.cc:1046] Use fast generic engine\n"
     ]
    },
    {
     "name": "stdout",
     "output_type": "stream",
     "text": [
      "i:14\n"
     ]
    },
    {
     "name": "stderr",
     "output_type": "stream",
     "text": [
      "[INFO 2025-02-05T09:43:28.837090813+00:00 kernel.cc:1214] Loading model from path /tmp/tmpxayt0kmt/model/ with prefix 2612151095e3470e\n",
      "[INFO 2025-02-05T09:43:28.843938659+00:00 kernel.cc:1046] Use fast generic engine\n"
     ]
    },
    {
     "name": "stdout",
     "output_type": "stream",
     "text": [
      "i:15\n"
     ]
    },
    {
     "name": "stderr",
     "output_type": "stream",
     "text": [
      "[INFO 2025-02-05T09:43:29.866557045+00:00 kernel.cc:1214] Loading model from path /tmp/tmpejj7putx/model/ with prefix b1413930487246fb\n",
      "[INFO 2025-02-05T09:43:29.874902462+00:00 kernel.cc:1046] Use fast generic engine\n"
     ]
    },
    {
     "name": "stdout",
     "output_type": "stream",
     "text": [
      "i:16\n"
     ]
    },
    {
     "name": "stderr",
     "output_type": "stream",
     "text": [
      "[INFO 2025-02-05T09:43:31.085613506+00:00 kernel.cc:1214] Loading model from path /tmp/tmpphfu_g3i/model/ with prefix 0311f412f0b640df\n",
      "[INFO 2025-02-05T09:43:31.100186078+00:00 kernel.cc:1046] Use fast generic engine\n"
     ]
    },
    {
     "name": "stdout",
     "output_type": "stream",
     "text": [
      "i:17\n"
     ]
    },
    {
     "name": "stderr",
     "output_type": "stream",
     "text": [
      "[INFO 2025-02-05T09:43:32.324725412+00:00 kernel.cc:1214] Loading model from path /tmp/tmpatp1nqxp/model/ with prefix c0f97cf0d3184704\n",
      "[INFO 2025-02-05T09:43:32.339329252+00:00 abstract_model.cc:1311] Engine \"GradientBoostedTreesQuickScorerExtended\" built\n",
      "[INFO 2025-02-05T09:43:32.339391905+00:00 kernel.cc:1046] Use fast generic engine\n"
     ]
    },
    {
     "name": "stdout",
     "output_type": "stream",
     "text": [
      "i:18\n"
     ]
    },
    {
     "name": "stderr",
     "output_type": "stream",
     "text": [
      "[INFO 2025-02-05T09:43:33.486829813+00:00 kernel.cc:1214] Loading model from path /tmp/tmpdikkhit_/model/ with prefix 7c288e6f75f64577\n",
      "[INFO 2025-02-05T09:43:33.499897866+00:00 kernel.cc:1046] Use fast generic engine\n"
     ]
    },
    {
     "name": "stdout",
     "output_type": "stream",
     "text": [
      "i:19\n"
     ]
    },
    {
     "name": "stderr",
     "output_type": "stream",
     "text": [
      "[INFO 2025-02-05T09:43:34.867837786+00:00 kernel.cc:1214] Loading model from path /tmp/tmpfbxhqmjg/model/ with prefix 07073e9be22b435c\n",
      "[INFO 2025-02-05T09:43:34.88781365+00:00 kernel.cc:1046] Use fast generic engine\n"
     ]
    },
    {
     "name": "stdout",
     "output_type": "stream",
     "text": [
      "i:20\n"
     ]
    },
    {
     "name": "stderr",
     "output_type": "stream",
     "text": [
      "[INFO 2025-02-05T09:43:36.171096165+00:00 kernel.cc:1214] Loading model from path /tmp/tmpqp76iehx/model/ with prefix d5483476a9ca464c\n",
      "[INFO 2025-02-05T09:43:36.187935519+00:00 kernel.cc:1046] Use fast generic engine\n"
     ]
    },
    {
     "name": "stdout",
     "output_type": "stream",
     "text": [
      "i:21\n"
     ]
    },
    {
     "name": "stderr",
     "output_type": "stream",
     "text": [
      "[INFO 2025-02-05T09:43:37.197450301+00:00 kernel.cc:1214] Loading model from path /tmp/tmpke6uhrko/model/ with prefix dc8e14d2f696472f\n",
      "[INFO 2025-02-05T09:43:37.203247942+00:00 kernel.cc:1046] Use fast generic engine\n"
     ]
    },
    {
     "name": "stdout",
     "output_type": "stream",
     "text": [
      "i:22\n"
     ]
    },
    {
     "name": "stderr",
     "output_type": "stream",
     "text": [
      "[INFO 2025-02-05T09:43:38.18297694+00:00 kernel.cc:1214] Loading model from path /tmp/tmp8d29iquj/model/ with prefix 127a2c4fa3834830\n",
      "[INFO 2025-02-05T09:43:38.189421262+00:00 kernel.cc:1046] Use fast generic engine\n"
     ]
    },
    {
     "name": "stdout",
     "output_type": "stream",
     "text": [
      "i:23\n"
     ]
    },
    {
     "name": "stderr",
     "output_type": "stream",
     "text": [
      "[INFO 2025-02-05T09:43:39.268381352+00:00 kernel.cc:1214] Loading model from path /tmp/tmpdqc4ywb4/model/ with prefix d14dc1162eca46b3\n",
      "[INFO 2025-02-05T09:43:39.278145611+00:00 kernel.cc:1046] Use fast generic engine\n"
     ]
    },
    {
     "name": "stdout",
     "output_type": "stream",
     "text": [
      "i:24\n"
     ]
    },
    {
     "name": "stderr",
     "output_type": "stream",
     "text": [
      "[INFO 2025-02-05T09:43:40.262322457+00:00 kernel.cc:1214] Loading model from path /tmp/tmp3jtudu7m/model/ with prefix 7c406c29a4e24235\n",
      "[INFO 2025-02-05T09:43:40.2691337+00:00 kernel.cc:1046] Use fast generic engine\n"
     ]
    },
    {
     "name": "stdout",
     "output_type": "stream",
     "text": [
      "i:25\n"
     ]
    },
    {
     "name": "stderr",
     "output_type": "stream",
     "text": [
      "[INFO 2025-02-05T09:43:41.502861752+00:00 kernel.cc:1214] Loading model from path /tmp/tmphtshlnmc/model/ with prefix 2ba7a366a6e1416a\n",
      "[INFO 2025-02-05T09:43:41.515929516+00:00 kernel.cc:1046] Use fast generic engine\n"
     ]
    },
    {
     "name": "stdout",
     "output_type": "stream",
     "text": [
      "i:26\n"
     ]
    },
    {
     "name": "stderr",
     "output_type": "stream",
     "text": [
      "[INFO 2025-02-05T09:43:42.609567117+00:00 kernel.cc:1214] Loading model from path /tmp/tmp2cwsubf7/model/ with prefix 27fc245ca78e4d72\n",
      "[INFO 2025-02-05T09:43:42.620600108+00:00 abstract_model.cc:1311] Engine \"GradientBoostedTreesQuickScorerExtended\" built\n",
      "[INFO 2025-02-05T09:43:42.620659006+00:00 kernel.cc:1046] Use fast generic engine\n"
     ]
    },
    {
     "name": "stdout",
     "output_type": "stream",
     "text": [
      "i:27\n"
     ]
    },
    {
     "name": "stderr",
     "output_type": "stream",
     "text": [
      "[INFO 2025-02-05T09:43:43.634395374+00:00 kernel.cc:1214] Loading model from path /tmp/tmp5dr00wg0/model/ with prefix 219ef2b07505456b\n",
      "[INFO 2025-02-05T09:43:43.642013812+00:00 kernel.cc:1046] Use fast generic engine\n"
     ]
    },
    {
     "name": "stdout",
     "output_type": "stream",
     "text": [
      "i:28\n"
     ]
    },
    {
     "name": "stderr",
     "output_type": "stream",
     "text": [
      "[INFO 2025-02-05T09:43:44.625873838+00:00 kernel.cc:1214] Loading model from path /tmp/tmpkm26bi91/model/ with prefix 2ee4de5192d84d1b\n",
      "[INFO 2025-02-05T09:43:44.631619116+00:00 kernel.cc:1046] Use fast generic engine\n"
     ]
    },
    {
     "name": "stdout",
     "output_type": "stream",
     "text": [
      "i:29\n"
     ]
    },
    {
     "name": "stderr",
     "output_type": "stream",
     "text": [
      "[INFO 2025-02-05T09:43:45.909016185+00:00 kernel.cc:1214] Loading model from path /tmp/tmpmk5oco82/model/ with prefix d8a60e18ed4b43f2\n",
      "[INFO 2025-02-05T09:43:45.929453083+00:00 kernel.cc:1046] Use fast generic engine\n"
     ]
    },
    {
     "name": "stdout",
     "output_type": "stream",
     "text": [
      "i:30\n"
     ]
    },
    {
     "name": "stderr",
     "output_type": "stream",
     "text": [
      "[INFO 2025-02-05T09:43:47.568233125+00:00 kernel.cc:1214] Loading model from path /tmp/tmpiscqwl9c/model/ with prefix 51cb70fc25ba46eb\n",
      "[INFO 2025-02-05T09:43:47.598314534+00:00 kernel.cc:1046] Use fast generic engine\n"
     ]
    },
    {
     "name": "stdout",
     "output_type": "stream",
     "text": [
      "i:31\n"
     ]
    },
    {
     "name": "stderr",
     "output_type": "stream",
     "text": [
      "[INFO 2025-02-05T09:43:49.235485731+00:00 kernel.cc:1214] Loading model from path /tmp/tmplolpikkl/model/ with prefix d6911843942340e4\n",
      "[INFO 2025-02-05T09:43:49.248105513+00:00 kernel.cc:1046] Use fast generic engine\n"
     ]
    },
    {
     "name": "stdout",
     "output_type": "stream",
     "text": [
      "i:32\n"
     ]
    },
    {
     "name": "stderr",
     "output_type": "stream",
     "text": [
      "[INFO 2025-02-05T09:43:50.299033129+00:00 kernel.cc:1214] Loading model from path /tmp/tmph_zvt2ln/model/ with prefix d9bc9653e6d840fe\n",
      "[INFO 2025-02-05T09:43:50.305903179+00:00 kernel.cc:1046] Use fast generic engine\n"
     ]
    },
    {
     "name": "stdout",
     "output_type": "stream",
     "text": [
      "i:33\n"
     ]
    },
    {
     "name": "stderr",
     "output_type": "stream",
     "text": [
      "[INFO 2025-02-05T09:43:51.57385459+00:00 kernel.cc:1214] Loading model from path /tmp/tmpkctwf02r/model/ with prefix 64c5ba13049c430f\n",
      "[INFO 2025-02-05T09:43:51.588717384+00:00 kernel.cc:1046] Use fast generic engine\n"
     ]
    },
    {
     "name": "stdout",
     "output_type": "stream",
     "text": [
      "i:34\n"
     ]
    },
    {
     "name": "stderr",
     "output_type": "stream",
     "text": [
      "[INFO 2025-02-05T09:43:52.654149002+00:00 kernel.cc:1214] Loading model from path /tmp/tmpnusagmuh/model/ with prefix ab82fa0c94e24923\n",
      "[INFO 2025-02-05T09:43:52.66412393+00:00 abstract_model.cc:1311] Engine \"GradientBoostedTreesQuickScorerExtended\" built\n",
      "[INFO 2025-02-05T09:43:52.664195972+00:00 kernel.cc:1046] Use fast generic engine\n"
     ]
    },
    {
     "name": "stdout",
     "output_type": "stream",
     "text": [
      "i:35\n"
     ]
    },
    {
     "name": "stderr",
     "output_type": "stream",
     "text": [
      "[INFO 2025-02-05T09:43:53.724798696+00:00 kernel.cc:1214] Loading model from path /tmp/tmpcx7opv02/model/ with prefix 3824726ef4d548fa\n",
      "[INFO 2025-02-05T09:43:53.733895542+00:00 kernel.cc:1046] Use fast generic engine\n"
     ]
    },
    {
     "name": "stdout",
     "output_type": "stream",
     "text": [
      "i:36\n"
     ]
    },
    {
     "name": "stderr",
     "output_type": "stream",
     "text": [
      "[INFO 2025-02-05T09:43:54.982961163+00:00 kernel.cc:1214] Loading model from path /tmp/tmpsxe92biz/model/ with prefix 37b528505b6e4f73\n",
      "[INFO 2025-02-05T09:43:54.999072635+00:00 kernel.cc:1046] Use fast generic engine\n"
     ]
    },
    {
     "name": "stdout",
     "output_type": "stream",
     "text": [
      "i:37\n"
     ]
    },
    {
     "name": "stderr",
     "output_type": "stream",
     "text": [
      "[INFO 2025-02-05T09:43:56.099792497+00:00 kernel.cc:1214] Loading model from path /tmp/tmpu8u9cy43/model/ with prefix 8b0899ee056f4e1a\n",
      "[INFO 2025-02-05T09:43:56.109956192+00:00 kernel.cc:1046] Use fast generic engine\n"
     ]
    },
    {
     "name": "stdout",
     "output_type": "stream",
     "text": [
      "i:38\n"
     ]
    },
    {
     "name": "stderr",
     "output_type": "stream",
     "text": [
      "[INFO 2025-02-05T09:43:57.319358125+00:00 kernel.cc:1214] Loading model from path /tmp/tmpghehemk3/model/ with prefix 19845621320e4d21\n",
      "[INFO 2025-02-05T09:43:57.333979164+00:00 kernel.cc:1046] Use fast generic engine\n"
     ]
    },
    {
     "name": "stdout",
     "output_type": "stream",
     "text": [
      "i:39\n"
     ]
    },
    {
     "name": "stderr",
     "output_type": "stream",
     "text": [
      "[INFO 2025-02-05T09:43:58.535475443+00:00 kernel.cc:1214] Loading model from path /tmp/tmpgtdrc2iq/model/ with prefix 466491d88dff4910\n",
      "[INFO 2025-02-05T09:43:58.54955756+00:00 kernel.cc:1046] Use fast generic engine\n"
     ]
    },
    {
     "name": "stdout",
     "output_type": "stream",
     "text": [
      "i:40\n"
     ]
    },
    {
     "name": "stderr",
     "output_type": "stream",
     "text": [
      "[INFO 2025-02-05T09:43:59.484241751+00:00 kernel.cc:1214] Loading model from path /tmp/tmpjezsowio/model/ with prefix a0df57d63dc041cc\n",
      "[INFO 2025-02-05T09:43:59.489327073+00:00 kernel.cc:1046] Use fast generic engine\n"
     ]
    },
    {
     "name": "stdout",
     "output_type": "stream",
     "text": [
      "i:41\n"
     ]
    },
    {
     "name": "stderr",
     "output_type": "stream",
     "text": [
      "[INFO 2025-02-05T09:44:00.7420916+00:00 kernel.cc:1214] Loading model from path /tmp/tmpl0xwd67s/model/ with prefix cb86fdce026f4521\n",
      "[INFO 2025-02-05T09:44:00.759351709+00:00 kernel.cc:1046] Use fast generic engine\n"
     ]
    },
    {
     "name": "stdout",
     "output_type": "stream",
     "text": [
      "i:42\n"
     ]
    },
    {
     "name": "stderr",
     "output_type": "stream",
     "text": [
      "[INFO 2025-02-05T09:44:01.905066068+00:00 kernel.cc:1214] Loading model from path /tmp/tmp3bx9fsyn/model/ with prefix ac4a473aa1ca465f\n",
      "[INFO 2025-02-05T09:44:01.91534336+00:00 kernel.cc:1046] Use fast generic engine\n"
     ]
    },
    {
     "name": "stdout",
     "output_type": "stream",
     "text": [
      "i:43\n"
     ]
    },
    {
     "name": "stderr",
     "output_type": "stream",
     "text": [
      "[INFO 2025-02-05T09:44:03.258558292+00:00 kernel.cc:1214] Loading model from path /tmp/tmpge54vk5b/model/ with prefix c6b160957e614d31\n",
      "[INFO 2025-02-05T09:44:03.277479052+00:00 abstract_model.cc:1311] Engine \"GradientBoostedTreesQuickScorerExtended\" built\n",
      "[INFO 2025-02-05T09:44:03.277543476+00:00 kernel.cc:1046] Use fast generic engine\n"
     ]
    },
    {
     "name": "stdout",
     "output_type": "stream",
     "text": [
      "i:44\n"
     ]
    },
    {
     "name": "stderr",
     "output_type": "stream",
     "text": [
      "[INFO 2025-02-05T09:44:04.352652442+00:00 kernel.cc:1214] Loading model from path /tmp/tmp395zg7e3/model/ with prefix 55fc4bbaa3ab4467\n",
      "[INFO 2025-02-05T09:44:04.363241003+00:00 kernel.cc:1046] Use fast generic engine\n"
     ]
    },
    {
     "name": "stdout",
     "output_type": "stream",
     "text": [
      "i:45\n"
     ]
    },
    {
     "name": "stderr",
     "output_type": "stream",
     "text": [
      "[INFO 2025-02-05T09:44:05.291641042+00:00 kernel.cc:1214] Loading model from path /tmp/tmp55h8lg0z/model/ with prefix 65cf108bc7634ad0\n",
      "[INFO 2025-02-05T09:44:05.295759634+00:00 kernel.cc:1046] Use fast generic engine\n"
     ]
    },
    {
     "name": "stdout",
     "output_type": "stream",
     "text": [
      "i:46\n"
     ]
    },
    {
     "name": "stderr",
     "output_type": "stream",
     "text": [
      "[INFO 2025-02-05T09:44:06.53892525+00:00 kernel.cc:1214] Loading model from path /tmp/tmpc3qdrcue/model/ with prefix 5f50f353804c465b\n",
      "[INFO 2025-02-05T09:44:06.555331572+00:00 kernel.cc:1046] Use fast generic engine\n"
     ]
    },
    {
     "name": "stdout",
     "output_type": "stream",
     "text": [
      "i:47\n"
     ]
    },
    {
     "name": "stderr",
     "output_type": "stream",
     "text": [
      "[INFO 2025-02-05T09:44:07.741540776+00:00 kernel.cc:1214] Loading model from path /tmp/tmpq6sge1v0/model/ with prefix 01756dcaab8f4f89\n",
      "[INFO 2025-02-05T09:44:07.756256272+00:00 kernel.cc:1046] Use fast generic engine\n"
     ]
    },
    {
     "name": "stdout",
     "output_type": "stream",
     "text": [
      "i:48\n"
     ]
    },
    {
     "name": "stderr",
     "output_type": "stream",
     "text": [
      "[INFO 2025-02-05T09:44:08.709642702+00:00 kernel.cc:1214] Loading model from path /tmp/tmprg_rc6z0/model/ with prefix 74f1034fc3d9472c\n",
      "[INFO 2025-02-05T09:44:08.714797477+00:00 kernel.cc:1046] Use fast generic engine\n"
     ]
    },
    {
     "name": "stdout",
     "output_type": "stream",
     "text": [
      "i:49\n"
     ]
    },
    {
     "name": "stderr",
     "output_type": "stream",
     "text": [
      "[INFO 2025-02-05T09:44:09.726350521+00:00 kernel.cc:1214] Loading model from path /tmp/tmpdxjbh8gd/model/ with prefix db0f40a05fbe451c\n",
      "[INFO 2025-02-05T09:44:09.73375708+00:00 kernel.cc:1046] Use fast generic engine\n"
     ]
    },
    {
     "name": "stdout",
     "output_type": "stream",
     "text": [
      "i:50\n"
     ]
    },
    {
     "name": "stderr",
     "output_type": "stream",
     "text": [
      "[INFO 2025-02-05T09:44:10.87956299+00:00 kernel.cc:1214] Loading model from path /tmp/tmp_9cu6dhi/model/ with prefix 81642d1950714e8a\n",
      "[INFO 2025-02-05T09:44:10.893324698+00:00 kernel.cc:1046] Use fast generic engine\n"
     ]
    },
    {
     "name": "stdout",
     "output_type": "stream",
     "text": [
      "i:51\n"
     ]
    },
    {
     "name": "stderr",
     "output_type": "stream",
     "text": [
      "[INFO 2025-02-05T09:44:12.163855971+00:00 kernel.cc:1214] Loading model from path /tmp/tmpasa7xozq/model/ with prefix 1dac5abb86184c4a\n",
      "[INFO 2025-02-05T09:44:12.181500908+00:00 kernel.cc:1046] Use fast generic engine\n"
     ]
    },
    {
     "name": "stdout",
     "output_type": "stream",
     "text": [
      "i:52\n"
     ]
    },
    {
     "name": "stderr",
     "output_type": "stream",
     "text": [
      "[INFO 2025-02-05T09:44:13.214160261+00:00 kernel.cc:1214] Loading model from path /tmp/tmp5la2vgkk/model/ with prefix a24127d993184a35\n",
      "[INFO 2025-02-05T09:44:13.222760811+00:00 kernel.cc:1046] Use fast generic engine\n"
     ]
    },
    {
     "name": "stdout",
     "output_type": "stream",
     "text": [
      "i:53\n"
     ]
    },
    {
     "name": "stderr",
     "output_type": "stream",
     "text": [
      "[INFO 2025-02-05T09:44:14.249666531+00:00 kernel.cc:1214] Loading model from path /tmp/tmpocvlf0o0/model/ with prefix 744ad6dfa8744f28\n",
      "[INFO 2025-02-05T09:44:14.257960585+00:00 abstract_model.cc:1311] Engine \"GradientBoostedTreesQuickScorerExtended\" built\n",
      "[INFO 2025-02-05T09:44:14.258001533+00:00 kernel.cc:1046] Use fast generic engine\n"
     ]
    },
    {
     "name": "stdout",
     "output_type": "stream",
     "text": [
      "i:54\n"
     ]
    },
    {
     "name": "stderr",
     "output_type": "stream",
     "text": [
      "[INFO 2025-02-05T09:44:15.186898054+00:00 kernel.cc:1214] Loading model from path /tmp/tmptig24951/model/ with prefix afba8aecd3b84be7\n",
      "[INFO 2025-02-05T09:44:15.190808894+00:00 kernel.cc:1046] Use fast generic engine\n"
     ]
    },
    {
     "name": "stdout",
     "output_type": "stream",
     "text": [
      "i:55\n"
     ]
    },
    {
     "name": "stderr",
     "output_type": "stream",
     "text": [
      "[INFO 2025-02-05T09:44:16.462939136+00:00 kernel.cc:1214] Loading model from path /tmp/tmpsiy4od8q/model/ with prefix 8d9774ea14824115\n",
      "[INFO 2025-02-05T09:44:16.479661839+00:00 kernel.cc:1046] Use fast generic engine\n"
     ]
    },
    {
     "name": "stdout",
     "output_type": "stream",
     "text": [
      "i:56\n"
     ]
    },
    {
     "name": "stderr",
     "output_type": "stream",
     "text": [
      "[INFO 2025-02-05T09:44:18.225247015+00:00 kernel.cc:1214] Loading model from path /tmp/tmpbnmnh2oq/model/ with prefix 6b73ae29c1d1472b\n",
      "[INFO 2025-02-05T09:44:18.239637486+00:00 kernel.cc:1046] Use fast generic engine\n"
     ]
    },
    {
     "name": "stdout",
     "output_type": "stream",
     "text": [
      "i:57\n"
     ]
    },
    {
     "name": "stderr",
     "output_type": "stream",
     "text": [
      "[INFO 2025-02-05T09:44:19.302988609+00:00 kernel.cc:1214] Loading model from path /tmp/tmpbg4c5c74/model/ with prefix 7e4c510f862e4af1\n",
      "[INFO 2025-02-05T09:44:19.308290397+00:00 kernel.cc:1046] Use fast generic engine\n"
     ]
    },
    {
     "name": "stdout",
     "output_type": "stream",
     "text": [
      "i:58\n"
     ]
    },
    {
     "name": "stderr",
     "output_type": "stream",
     "text": [
      "[INFO 2025-02-05T09:44:20.33557757+00:00 kernel.cc:1214] Loading model from path /tmp/tmpu517ptkt/model/ with prefix 650d4823616d4362\n",
      "[INFO 2025-02-05T09:44:20.343165102+00:00 kernel.cc:1046] Use fast generic engine\n"
     ]
    },
    {
     "name": "stdout",
     "output_type": "stream",
     "text": [
      "i:59\n"
     ]
    },
    {
     "name": "stderr",
     "output_type": "stream",
     "text": [
      "[INFO 2025-02-05T09:44:21.465777857+00:00 kernel.cc:1214] Loading model from path /tmp/tmpmiw_6f9m/model/ with prefix bd01575718dc4c49\n",
      "[INFO 2025-02-05T09:44:21.476416395+00:00 kernel.cc:1046] Use fast generic engine\n"
     ]
    },
    {
     "name": "stdout",
     "output_type": "stream",
     "text": [
      "i:60\n"
     ]
    },
    {
     "name": "stderr",
     "output_type": "stream",
     "text": [
      "[INFO 2025-02-05T09:44:22.584881662+00:00 kernel.cc:1214] Loading model from path /tmp/tmp42btgbed/model/ with prefix f883beda531e4ef3\n",
      "[INFO 2025-02-05T09:44:22.596056071+00:00 kernel.cc:1046] Use fast generic engine\n"
     ]
    },
    {
     "name": "stdout",
     "output_type": "stream",
     "text": [
      "i:61\n"
     ]
    },
    {
     "name": "stderr",
     "output_type": "stream",
     "text": [
      "[INFO 2025-02-05T09:44:23.582681161+00:00 kernel.cc:1214] Loading model from path /tmp/tmpyo2bfpj_/model/ with prefix 427c5687bdf94200\n",
      "[INFO 2025-02-05T09:44:23.588328214+00:00 kernel.cc:1046] Use fast generic engine\n"
     ]
    },
    {
     "name": "stdout",
     "output_type": "stream",
     "text": [
      "i:62\n"
     ]
    },
    {
     "name": "stderr",
     "output_type": "stream",
     "text": [
      "[INFO 2025-02-05T09:44:25.1745254+00:00 kernel.cc:1214] Loading model from path /tmp/tmpjw9boben/model/ with prefix a8494132009b481c\n",
      "[INFO 2025-02-05T09:44:25.20295924+00:00 abstract_model.cc:1311] Engine \"GradientBoostedTreesQuickScorerExtended\" built\n",
      "[INFO 2025-02-05T09:44:25.20300879+00:00 kernel.cc:1046] Use fast generic engine\n"
     ]
    },
    {
     "name": "stdout",
     "output_type": "stream",
     "text": [
      "i:63\n"
     ]
    },
    {
     "name": "stderr",
     "output_type": "stream",
     "text": [
      "[INFO 2025-02-05T09:44:26.290794896+00:00 kernel.cc:1214] Loading model from path /tmp/tmp301l6lnk/model/ with prefix 7b8be401655643a0\n",
      "[INFO 2025-02-05T09:44:26.300934147+00:00 kernel.cc:1046] Use fast generic engine\n"
     ]
    },
    {
     "name": "stdout",
     "output_type": "stream",
     "text": [
      "i:64\n"
     ]
    },
    {
     "name": "stderr",
     "output_type": "stream",
     "text": [
      "[INFO 2025-02-05T09:44:27.347726226+00:00 kernel.cc:1214] Loading model from path /tmp/tmputj6p8ys/model/ with prefix a96677e393f947da\n",
      "[INFO 2025-02-05T09:44:27.356355965+00:00 kernel.cc:1046] Use fast generic engine\n"
     ]
    },
    {
     "name": "stdout",
     "output_type": "stream",
     "text": [
      "i:65\n"
     ]
    },
    {
     "name": "stderr",
     "output_type": "stream",
     "text": [
      "[INFO 2025-02-05T09:44:28.327345917+00:00 kernel.cc:1214] Loading model from path /tmp/tmpkuswv5m_/model/ with prefix a4fb227dddbf4bd5\n",
      "[INFO 2025-02-05T09:44:28.332744161+00:00 kernel.cc:1046] Use fast generic engine\n"
     ]
    },
    {
     "name": "stdout",
     "output_type": "stream",
     "text": [
      "i:66\n"
     ]
    },
    {
     "name": "stderr",
     "output_type": "stream",
     "text": [
      "[INFO 2025-02-05T09:44:29.341999017+00:00 kernel.cc:1214] Loading model from path /tmp/tmplv4lrk5r/model/ with prefix 724d6b2530354911\n",
      "[INFO 2025-02-05T09:44:29.348966211+00:00 kernel.cc:1046] Use fast generic engine\n"
     ]
    },
    {
     "name": "stdout",
     "output_type": "stream",
     "text": [
      "i:67\n"
     ]
    },
    {
     "name": "stderr",
     "output_type": "stream",
     "text": [
      "[INFO 2025-02-05T09:44:30.72473581+00:00 kernel.cc:1214] Loading model from path /tmp/tmphhsyedbl/model/ with prefix 6d80ffa9bcf94f0c\n",
      "[INFO 2025-02-05T09:44:30.746113919+00:00 kernel.cc:1046] Use fast generic engine\n"
     ]
    },
    {
     "name": "stdout",
     "output_type": "stream",
     "text": [
      "i:68\n"
     ]
    },
    {
     "name": "stderr",
     "output_type": "stream",
     "text": [
      "[INFO 2025-02-05T09:44:31.960542085+00:00 kernel.cc:1214] Loading model from path /tmp/tmpyruiqli8/model/ with prefix 9fdb70cc499243c8\n",
      "[INFO 2025-02-05T09:44:31.977550272+00:00 kernel.cc:1046] Use fast generic engine\n"
     ]
    },
    {
     "name": "stdout",
     "output_type": "stream",
     "text": [
      "i:69\n"
     ]
    },
    {
     "name": "stderr",
     "output_type": "stream",
     "text": [
      "[INFO 2025-02-05T09:44:32.999664937+00:00 kernel.cc:1214] Loading model from path /tmp/tmpsd29s64v/model/ with prefix fcb320a6cbc145c6\n",
      "[INFO 2025-02-05T09:44:33.006970991+00:00 kernel.cc:1046] Use fast generic engine\n"
     ]
    },
    {
     "name": "stdout",
     "output_type": "stream",
     "text": [
      "i:70\n"
     ]
    },
    {
     "name": "stderr",
     "output_type": "stream",
     "text": [
      "[INFO 2025-02-05T09:44:34.101713905+00:00 kernel.cc:1214] Loading model from path /tmp/tmpr1n8xm6x/model/ with prefix a3d583cc6f354c42\n",
      "[INFO 2025-02-05T09:44:34.111974106+00:00 kernel.cc:1046] Use fast generic engine\n"
     ]
    },
    {
     "name": "stdout",
     "output_type": "stream",
     "text": [
      "i:71\n"
     ]
    },
    {
     "name": "stderr",
     "output_type": "stream",
     "text": [
      "[INFO 2025-02-05T09:44:35.184211978+00:00 kernel.cc:1214] Loading model from path /tmp/tmps6ay7ttt/model/ with prefix 5e82da7609854ed4\n",
      "[INFO 2025-02-05T09:44:35.192969839+00:00 kernel.cc:1046] Use fast generic engine\n"
     ]
    },
    {
     "name": "stdout",
     "output_type": "stream",
     "text": [
      "i:72\n"
     ]
    },
    {
     "name": "stderr",
     "output_type": "stream",
     "text": [
      "[INFO 2025-02-05T09:44:36.490378589+00:00 kernel.cc:1214] Loading model from path /tmp/tmpqoyqp3jy/model/ with prefix 06ff99f457544f05\n",
      "[INFO 2025-02-05T09:44:36.507891185+00:00 abstract_model.cc:1311] Engine \"GradientBoostedTreesQuickScorerExtended\" built\n",
      "[INFO 2025-02-05T09:44:36.507940222+00:00 kernel.cc:1046] Use fast generic engine\n"
     ]
    },
    {
     "name": "stdout",
     "output_type": "stream",
     "text": [
      "i:73\n"
     ]
    },
    {
     "name": "stderr",
     "output_type": "stream",
     "text": [
      "[INFO 2025-02-05T09:44:37.534960656+00:00 kernel.cc:1214] Loading model from path /tmp/tmp2eavg5hu/model/ with prefix f98ae9b027bc47e9\n",
      "[INFO 2025-02-05T09:44:37.542847552+00:00 kernel.cc:1046] Use fast generic engine\n"
     ]
    },
    {
     "name": "stdout",
     "output_type": "stream",
     "text": [
      "i:74\n"
     ]
    },
    {
     "name": "stderr",
     "output_type": "stream",
     "text": [
      "[INFO 2025-02-05T09:44:38.702933616+00:00 kernel.cc:1214] Loading model from path /tmp/tmp_a05ejqg/model/ with prefix 462521175b12449f\n",
      "[INFO 2025-02-05T09:44:38.715622517+00:00 kernel.cc:1046] Use fast generic engine\n"
     ]
    },
    {
     "name": "stdout",
     "output_type": "stream",
     "text": [
      "i:75\n"
     ]
    },
    {
     "name": "stderr",
     "output_type": "stream",
     "text": [
      "[INFO 2025-02-05T09:44:39.778970461+00:00 kernel.cc:1214] Loading model from path /tmp/tmpezgqu_xl/model/ with prefix 9c5546f6906a4642\n",
      "[INFO 2025-02-05T09:44:39.787997818+00:00 kernel.cc:1046] Use fast generic engine\n"
     ]
    },
    {
     "name": "stdout",
     "output_type": "stream",
     "text": [
      "i:76\n"
     ]
    },
    {
     "name": "stderr",
     "output_type": "stream",
     "text": [
      "[INFO 2025-02-05T09:44:40.780654103+00:00 kernel.cc:1214] Loading model from path /tmp/tmp5p8lt1kq/model/ with prefix e5804ac5a3074b1d\n",
      "[INFO 2025-02-05T09:44:40.785201913+00:00 kernel.cc:1046] Use fast generic engine\n"
     ]
    },
    {
     "name": "stdout",
     "output_type": "stream",
     "text": [
      "i:77\n"
     ]
    },
    {
     "name": "stderr",
     "output_type": "stream",
     "text": [
      "[INFO 2025-02-05T09:44:41.787715802+00:00 kernel.cc:1214] Loading model from path /tmp/tmp8lw96kvz/model/ with prefix da3ab680a0a84cbb\n",
      "[INFO 2025-02-05T09:44:41.793091578+00:00 kernel.cc:1046] Use fast generic engine\n"
     ]
    },
    {
     "name": "stdout",
     "output_type": "stream",
     "text": [
      "i:78\n"
     ]
    },
    {
     "name": "stderr",
     "output_type": "stream",
     "text": [
      "[INFO 2025-02-05T09:44:42.79917182+00:00 kernel.cc:1214] Loading model from path /tmp/tmpv2rxm4ku/model/ with prefix 0801d187f1bb4478\n",
      "[INFO 2025-02-05T09:44:42.806516744+00:00 kernel.cc:1046] Use fast generic engine\n"
     ]
    },
    {
     "name": "stdout",
     "output_type": "stream",
     "text": [
      "i:79\n"
     ]
    },
    {
     "name": "stderr",
     "output_type": "stream",
     "text": [
      "[INFO 2025-02-05T09:44:43.82860199+00:00 kernel.cc:1214] Loading model from path /tmp/tmps5i6q1qr/model/ with prefix 6430d36d107541c2\n",
      "[INFO 2025-02-05T09:44:43.836621375+00:00 kernel.cc:1046] Use fast generic engine\n"
     ]
    },
    {
     "name": "stdout",
     "output_type": "stream",
     "text": [
      "i:80\n"
     ]
    },
    {
     "name": "stderr",
     "output_type": "stream",
     "text": [
      "[INFO 2025-02-05T09:44:44.957840601+00:00 kernel.cc:1214] Loading model from path /tmp/tmpqjitslc6/model/ with prefix c6dd9d67f20a41f0\n",
      "[INFO 2025-02-05T09:44:44.968712144+00:00 kernel.cc:1046] Use fast generic engine\n"
     ]
    },
    {
     "name": "stdout",
     "output_type": "stream",
     "text": [
      "i:81\n"
     ]
    },
    {
     "name": "stderr",
     "output_type": "stream",
     "text": [
      "[INFO 2025-02-05T09:44:46.154836846+00:00 kernel.cc:1214] Loading model from path /tmp/tmpv5ycflqy/model/ with prefix bd618d258b744b7d\n",
      "[INFO 2025-02-05T09:44:46.16728384+00:00 kernel.cc:1046] Use fast generic engine\n"
     ]
    },
    {
     "name": "stdout",
     "output_type": "stream",
     "text": [
      "i:82\n"
     ]
    },
    {
     "name": "stderr",
     "output_type": "stream",
     "text": [
      "[INFO 2025-02-05T09:44:47.310244273+00:00 kernel.cc:1214] Loading model from path /tmp/tmpbtuo6mhh/model/ with prefix a24f5e4de0a14477\n",
      "[INFO 2025-02-05T09:44:47.320981199+00:00 abstract_model.cc:1311] Engine \"GradientBoostedTreesQuickScorerExtended\" built\n",
      "[INFO 2025-02-05T09:44:47.321028916+00:00 kernel.cc:1046] Use fast generic engine\n"
     ]
    },
    {
     "name": "stdout",
     "output_type": "stream",
     "text": [
      "i:83\n"
     ]
    },
    {
     "name": "stderr",
     "output_type": "stream",
     "text": [
      "[INFO 2025-02-05T09:44:48.399377001+00:00 kernel.cc:1214] Loading model from path /tmp/tmp26b_n5ml/model/ with prefix 01c584c6597b4cb9\n",
      "[INFO 2025-02-05T09:44:48.409172595+00:00 kernel.cc:1046] Use fast generic engine\n"
     ]
    },
    {
     "name": "stdout",
     "output_type": "stream",
     "text": [
      "i:84\n"
     ]
    },
    {
     "name": "stderr",
     "output_type": "stream",
     "text": [
      "[INFO 2025-02-05T09:44:50.49702751+00:00 kernel.cc:1214] Loading model from path /tmp/tmpcqhdxj14/model/ with prefix 8f360e00491d40a0\n",
      "[INFO 2025-02-05T09:44:50.518639899+00:00 kernel.cc:1046] Use fast generic engine\n"
     ]
    },
    {
     "name": "stdout",
     "output_type": "stream",
     "text": [
      "i:85\n"
     ]
    },
    {
     "name": "stderr",
     "output_type": "stream",
     "text": [
      "[INFO 2025-02-05T09:44:51.635084273+00:00 kernel.cc:1214] Loading model from path /tmp/tmpslaqepnu/model/ with prefix f1a7d9fc73434eb1\n",
      "[INFO 2025-02-05T09:44:51.642879055+00:00 kernel.cc:1046] Use fast generic engine\n"
     ]
    },
    {
     "name": "stdout",
     "output_type": "stream",
     "text": [
      "i:86\n"
     ]
    },
    {
     "name": "stderr",
     "output_type": "stream",
     "text": [
      "[INFO 2025-02-05T09:44:52.943153198+00:00 kernel.cc:1214] Loading model from path /tmp/tmpwn4zfddz/model/ with prefix d1566a1f805846a3\n",
      "[INFO 2025-02-05T09:44:52.961592232+00:00 kernel.cc:1046] Use fast generic engine\n"
     ]
    },
    {
     "name": "stdout",
     "output_type": "stream",
     "text": [
      "i:87\n"
     ]
    },
    {
     "name": "stderr",
     "output_type": "stream",
     "text": [
      "[INFO 2025-02-05T09:44:54.326773182+00:00 kernel.cc:1214] Loading model from path /tmp/tmph7kymke7/model/ with prefix faebf37e04344e7f\n",
      "[INFO 2025-02-05T09:44:54.347353024+00:00 kernel.cc:1046] Use fast generic engine\n"
     ]
    },
    {
     "name": "stdout",
     "output_type": "stream",
     "text": [
      "i:88\n"
     ]
    },
    {
     "name": "stderr",
     "output_type": "stream",
     "text": [
      "[INFO 2025-02-05T09:44:55.532238344+00:00 kernel.cc:1214] Loading model from path /tmp/tmp4i5grh63/model/ with prefix 97014f973654409e\n",
      "[INFO 2025-02-05T09:44:55.545407497+00:00 kernel.cc:1046] Use fast generic engine\n"
     ]
    },
    {
     "name": "stdout",
     "output_type": "stream",
     "text": [
      "i:89\n"
     ]
    },
    {
     "name": "stderr",
     "output_type": "stream",
     "text": [
      "[INFO 2025-02-05T09:44:56.532716778+00:00 kernel.cc:1214] Loading model from path /tmp/tmpdw0x4jh3/model/ with prefix 574c50fd03fb4e92\n",
      "[INFO 2025-02-05T09:44:56.538337784+00:00 kernel.cc:1046] Use fast generic engine\n"
     ]
    },
    {
     "name": "stdout",
     "output_type": "stream",
     "text": [
      "i:90\n"
     ]
    },
    {
     "name": "stderr",
     "output_type": "stream",
     "text": [
      "[INFO 2025-02-05T09:44:57.672864615+00:00 kernel.cc:1214] Loading model from path /tmp/tmpxd83kg3t/model/ with prefix b642ce5a307a4610\n",
      "[INFO 2025-02-05T09:44:57.684368633+00:00 abstract_model.cc:1311] Engine \"GradientBoostedTreesQuickScorerExtended\" built\n",
      "[INFO 2025-02-05T09:44:57.684416701+00:00 kernel.cc:1046] Use fast generic engine\n"
     ]
    },
    {
     "name": "stdout",
     "output_type": "stream",
     "text": [
      "i:91\n"
     ]
    },
    {
     "name": "stderr",
     "output_type": "stream",
     "text": [
      "[INFO 2025-02-05T09:44:58.715885173+00:00 kernel.cc:1214] Loading model from path /tmp/tmpot2zyb3w/model/ with prefix 755f7fd7bd6e4356\n",
      "[INFO 2025-02-05T09:44:58.723491168+00:00 kernel.cc:1046] Use fast generic engine\n"
     ]
    },
    {
     "name": "stdout",
     "output_type": "stream",
     "text": [
      "i:92\n"
     ]
    },
    {
     "name": "stderr",
     "output_type": "stream",
     "text": [
      "[INFO 2025-02-05T09:45:00.057799198+00:00 kernel.cc:1214] Loading model from path /tmp/tmpev27rggy/model/ with prefix acaeac6367df45fc\n",
      "[INFO 2025-02-05T09:45:00.077685706+00:00 kernel.cc:1046] Use fast generic engine\n"
     ]
    },
    {
     "name": "stdout",
     "output_type": "stream",
     "text": [
      "i:93\n"
     ]
    },
    {
     "name": "stderr",
     "output_type": "stream",
     "text": [
      "[INFO 2025-02-05T09:45:01.325829653+00:00 kernel.cc:1214] Loading model from path /tmp/tmpw3jgu61j/model/ with prefix e07bdc66f06544f8\n",
      "[INFO 2025-02-05T09:45:01.340334509+00:00 kernel.cc:1046] Use fast generic engine\n"
     ]
    },
    {
     "name": "stdout",
     "output_type": "stream",
     "text": [
      "i:94\n"
     ]
    },
    {
     "name": "stderr",
     "output_type": "stream",
     "text": [
      "[INFO 2025-02-05T09:45:02.374474045+00:00 kernel.cc:1214] Loading model from path /tmp/tmpgbxlm_wy/model/ with prefix 9db4e71fa14f43ce\n",
      "[INFO 2025-02-05T09:45:02.381702007+00:00 kernel.cc:1046] Use fast generic engine\n"
     ]
    },
    {
     "name": "stdout",
     "output_type": "stream",
     "text": [
      "i:95\n"
     ]
    },
    {
     "name": "stderr",
     "output_type": "stream",
     "text": [
      "[INFO 2025-02-05T09:45:03.466609847+00:00 kernel.cc:1214] Loading model from path /tmp/tmp_rqs0yvi/model/ with prefix 41a38d838e16483f\n",
      "[INFO 2025-02-05T09:45:03.476087581+00:00 kernel.cc:1046] Use fast generic engine\n"
     ]
    },
    {
     "name": "stdout",
     "output_type": "stream",
     "text": [
      "i:96\n"
     ]
    },
    {
     "name": "stderr",
     "output_type": "stream",
     "text": [
      "[INFO 2025-02-05T09:45:04.598795099+00:00 kernel.cc:1214] Loading model from path /tmp/tmpa45vehuz/model/ with prefix 0ed606dcf6b34cf3\n",
      "[INFO 2025-02-05T09:45:04.610397616+00:00 kernel.cc:1046] Use fast generic engine\n"
     ]
    },
    {
     "name": "stdout",
     "output_type": "stream",
     "text": [
      "i:97\n"
     ]
    },
    {
     "name": "stderr",
     "output_type": "stream",
     "text": [
      "[INFO 2025-02-05T09:45:05.599245944+00:00 kernel.cc:1214] Loading model from path /tmp/tmpd4lm5tvy/model/ with prefix b36a1a6b4de94a6c\n",
      "[INFO 2025-02-05T09:45:05.605029979+00:00 kernel.cc:1046] Use fast generic engine\n"
     ]
    },
    {
     "name": "stdout",
     "output_type": "stream",
     "text": [
      "i:98\n"
     ]
    },
    {
     "name": "stderr",
     "output_type": "stream",
     "text": [
      "[INFO 2025-02-05T09:45:06.660200006+00:00 kernel.cc:1214] Loading model from path /tmp/tmpt991r42m/model/ with prefix 825fc31f88a0465a\n",
      "[INFO 2025-02-05T09:45:06.668856113+00:00 kernel.cc:1046] Use fast generic engine\n"
     ]
    },
    {
     "name": "stdout",
     "output_type": "stream",
     "text": [
      "i:99\n"
     ]
    },
    {
     "name": "stderr",
     "output_type": "stream",
     "text": [
      "[INFO 2025-02-05T09:45:07.911088246+00:00 kernel.cc:1214] Loading model from path /tmp/tmpkvflc03y/model/ with prefix e6dfc3622649478e\n",
      "[INFO 2025-02-05T09:45:07.926953262+00:00 abstract_model.cc:1311] Engine \"GradientBoostedTreesQuickScorerExtended\" built\n",
      "[INFO 2025-02-05T09:45:07.927001841+00:00 kernel.cc:1046] Use fast generic engine\n"
     ]
    },
    {
     "name": "stdout",
     "output_type": "stream",
     "text": [
      "Submission exported to /kaggle/working/submission.csv\n"
     ]
    }
   ],
   "source": [
    "predictions = None\n",
    "num_predictions = 0\n",
    "\n",
    "for i in range(100):\n",
    "    print(f\"i:{i}\")\n",
    "    # Possible models: GradientBoostedTreesModel or RandomForestModel\n",
    "    model = tfdf.keras.GradientBoostedTreesModel(\n",
    "        verbose=0, # Very few logs\n",
    "        features=[tfdf.keras.FeatureUsage(name=n) for n in input_features],\n",
    "        exclude_non_specified_features=True, # Only use the features in \"features\"\n",
    "\n",
    "        #min_examples=1,\n",
    "        #categorical_algorithm=\"RANDOM\",\n",
    "        ##max_depth=4,\n",
    "        #shrinkage=0.05,\n",
    "        ##num_candidate_attributes_ratio=0.2,\n",
    "        #split_axis=\"SPARSE_OBLIQUE\",\n",
    "        #sparse_oblique_normalization=\"MIN_MAX\",\n",
    "        #sparse_oblique_num_projections_exponent=2.0,\n",
    "        #num_trees=2000,\n",
    "        ##validation_ratio=0.0,\n",
    "        random_seed=i,\n",
    "        honest=True,\n",
    "    )\n",
    "    model.fit(train_ds)\n",
    "    \n",
    "    sub_predictions = model.predict(serving_ds, verbose=0)[:,0]\n",
    "    if predictions is None:\n",
    "        predictions = sub_predictions\n",
    "    else:\n",
    "        predictions += sub_predictions\n",
    "    num_predictions += 1\n",
    "\n",
    "predictions/=num_predictions\n",
    "\n",
    "kaggle_predictions = pd.DataFrame({\n",
    "        \"PassengerId\": serving_df[\"PassengerId\"],\n",
    "        \"Survived\": (predictions >= 0.5).astype(int)\n",
    "    })\n",
    "\n",
    "make_submission(kaggle_predictions)"
   ]
  },
  {
   "cell_type": "markdown",
   "id": "05588a56",
   "metadata": {
    "papermill": {
     "duration": 0.016212,
     "end_time": "2025-02-05T09:45:08.380819",
     "exception": false,
     "start_time": "2025-02-05T09:45:08.364607",
     "status": "completed"
    },
    "tags": []
   },
   "source": [
    "# What is next\n",
    "\n",
    "If you want to learn more about TensorFlow Decision Forests and its advanced features, you can follow the official documentation [here](https://www.tensorflow.org/decision_forests) "
   ]
  }
 ],
 "metadata": {
  "kaggle": {
   "accelerator": "none",
   "dataSources": [
    {
     "databundleVersionId": 26502,
     "sourceId": 3136,
     "sourceType": "competition"
    }
   ],
   "dockerImageVersionId": 30458,
   "isGpuEnabled": false,
   "isInternetEnabled": true,
   "language": "python",
   "sourceType": "notebook"
  },
  "kernelspec": {
   "display_name": "Python 3",
   "language": "python",
   "name": "python3"
  },
  "language_info": {
   "codemirror_mode": {
    "name": "ipython",
    "version": 3
   },
   "file_extension": ".py",
   "mimetype": "text/x-python",
   "name": "python",
   "nbconvert_exporter": "python",
   "pygments_lexer": "ipython3",
   "version": "3.7.12"
  },
  "papermill": {
   "default_parameters": {},
   "duration": 274.718252,
   "end_time": "2025-02-05T09:45:11.341406",
   "environment_variables": {},
   "exception": null,
   "input_path": "__notebook__.ipynb",
   "output_path": "__notebook__.ipynb",
   "parameters": {},
   "start_time": "2025-02-05T09:40:36.623154",
   "version": "2.4.0"
  }
 },
 "nbformat": 4,
 "nbformat_minor": 5
}
