{
 "cells": [
  {
   "cell_type": "code",
   "execution_count": 1,
   "id": "d6dc3642",
   "metadata": {
    "_cell_guid": "b1076dfc-b9ad-4769-8c92-a6c4dae69d19",
    "_uuid": "8f2839f25d086af736a60e9eeb907d3b93b6e0e5",
    "execution": {
     "iopub.execute_input": "2025-02-04T13:24:59.306143Z",
     "iopub.status.busy": "2025-02-04T13:24:59.305842Z",
     "iopub.status.idle": "2025-02-04T13:24:59.977352Z",
     "shell.execute_reply": "2025-02-04T13:24:59.976684Z"
    },
    "papermill": {
     "duration": 0.675773,
     "end_time": "2025-02-04T13:24:59.978899",
     "exception": false,
     "start_time": "2025-02-04T13:24:59.303126",
     "status": "completed"
    },
    "tags": []
   },
   "outputs": [],
   "source": [
    "# This Python 3 environment comes with many helpful analytics libraries installed\n",
    "# It is defined by the kaggle/python Docker image: https://github.com/kaggle/docker-python\n",
    "# For example, here's several helpful packages to load\n",
    "\n",
    "import numpy as np # linear algebra\n",
    "import pandas as pd # data processing, CSV file I/O (e.g. pd.read_csv)\n",
    "\n",
    "# Input data files are available in the read-only \"../input/\" directory\n",
    "# For example, running this (by clicking run or pressing Shift+Enter) will list all files under the input directory\n",
    "\n",
    "import os\n",
    "for dirname, _, filenames in os.walk('/kaggle/input'):\n",
    "    for filename in filenames:\n",
    "        print(os.path.join(dirname, filename))\n",
    "\n",
    "# You can write up to 20GB to the current directory (/kaggle/working/) that gets preserved as output when you create a version using \"Save & Run All\" \n",
    "# You can also write temporary files to /kaggle/temp/, but they won't be saved outside of the current session"
   ]
  },
  {
   "cell_type": "code",
   "execution_count": 2,
   "id": "805b375d",
   "metadata": {
    "execution": {
     "iopub.execute_input": "2025-02-04T13:24:59.982953Z",
     "iopub.status.busy": "2025-02-04T13:24:59.982623Z",
     "iopub.status.idle": "2025-02-04T13:24:59.985552Z",
     "shell.execute_reply": "2025-02-04T13:24:59.984947Z"
    },
    "papermill": {
     "duration": 0.00601,
     "end_time": "2025-02-04T13:24:59.986789",
     "exception": false,
     "start_time": "2025-02-04T13:24:59.980779",
     "status": "completed"
    },
    "tags": []
   },
   "outputs": [],
   "source": [
    "import pandas as pd\n",
    "import numpy as np"
   ]
  },
  {
   "cell_type": "code",
   "execution_count": null,
   "id": "9ad97ac7",
   "metadata": {
    "papermill": {
     "duration": 0.000993,
     "end_time": "2025-02-04T13:24:59.988980",
     "exception": false,
     "start_time": "2025-02-04T13:24:59.987987",
     "status": "completed"
    },
    "tags": []
   },
   "outputs": [],
   "source": []
  }
 ],
 "metadata": {
  "kaggle": {
   "accelerator": "gpu",
   "dataSources": [],
   "dockerImageVersionId": 30840,
   "isGpuEnabled": true,
   "isInternetEnabled": true,
   "language": "python",
   "sourceType": "notebook"
  },
  "kernelspec": {
   "display_name": "Python 3",
   "language": "python",
   "name": "python3"
  },
  "language_info": {
   "codemirror_mode": {
    "name": "ipython",
    "version": 3
   },
   "file_extension": ".py",
   "mimetype": "text/x-python",
   "name": "python",
   "nbconvert_exporter": "python",
   "pygments_lexer": "ipython3",
   "version": "3.10.12"
  },
  "papermill": {
   "default_parameters": {},
   "duration": 3.606985,
   "end_time": "2025-02-04T13:25:00.406676",
   "environment_variables": {},
   "exception": null,
   "input_path": "__notebook__.ipynb",
   "output_path": "__notebook__.ipynb",
   "parameters": {},
   "start_time": "2025-02-04T13:24:56.799691",
   "version": "2.6.0"
  }
 },
 "nbformat": 4,
 "nbformat_minor": 5
}
